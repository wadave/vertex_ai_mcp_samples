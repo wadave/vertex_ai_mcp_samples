{
 "cells": [
  {
   "cell_type": "code",
   "execution_count": null,
   "metadata": {
    "id": "ur8xi4C7S06n"
   },
   "outputs": [],
   "source": [
    "# Copyright 2025 Google LLC\n",
    "#\n",
    "# Licensed under the Apache License, Version 2.0 (the \"License\");\n",
    "# you may not use this file except in compliance with the License.\n",
    "# You may obtain a copy of the License at\n",
    "#\n",
    "#     https://www.apache.org/licenses/LICENSE-2.0\n",
    "#\n",
    "# Unless required by applicable law or agreed to in writing, software\n",
    "# distributed under the License is distributed on an \"AS IS\" BASIS,\n",
    "# WITHOUT WARRANTIES OR CONDITIONS OF ANY KIND, either express or implied.\n",
    "# See the License for the specific language governing permissions and\n",
    "# limitations under the License."
   ]
  },
  {
   "cell_type": "markdown",
   "metadata": {
    "id": "JAPoU8Sm5E6e"
   },
   "source": [
    "# Use Gemini 2.5 Pro to develop MCP Server\n",
    "\n",
    "\n",
    "\n",
    "   \n",
    "  \n",
    "  <td style=\"text-align: center\">\n",
    "    <a href=\"https://github.com/wadave/vertex_ai_mcp_samples/blob/main/develop_mcp_with_gemini_and_adk.ipynb\">\n",
    "      <img width=\"32px\" src=\"https://www.svgrepo.com/download/217753/github.svg\" alt=\"GitHub logo\"><br> View on GitHub\n",
    "    </a>\n",
    "  </td>\n",
    "</table>\n",
    "\n",
    "<div style=\"clear: both;\"></div>\n",
    "\n",
    "<b>Share to:</b>\n",
    "\n",
    "<a href=\"https://www.linkedin.com/sharing/share-offsite/?url=https%3A//github.com/GoogleCloudPlatform/generative-ai/blob/main/notebook_template.ipynb\" target=\"_blank\">\n",
    "  <img width=\"20px\" src=\"https://upload.wikimedia.org/wikipedia/commons/8/81/LinkedIn_icon.svg\" alt=\"LinkedIn logo\">\n",
    "</a>\n",
    "\n",
    "<a href=\"https://bsky.app/intent/compose?text=https%3A//github.com/GoogleCloudPlatform/generative-ai/blob/main/notebook_template.ipynb\" target=\"_blank\">\n",
    "  <img width=\"20px\" src=\"https://upload.wikimedia.org/wikipedia/commons/7/7a/Bluesky_Logo.svg\" alt=\"Bluesky logo\">\n",
    "</a>\n",
    "\n",
    "<a href=\"https://twitter.com/intent/tweet?url=https%3A//github.com/GoogleCloudPlatform/generative-ai/blob/main/notebook_template.ipynb\" target=\"_blank\">\n",
    "  <img width=\"20px\" src=\"https://upload.wikimedia.org/wikipedia/commons/5/5a/X_icon_2.svg\" alt=\"X logo\">\n",
    "</a>\n",
    "\n",
    "<a href=\"https://reddit.com/submit?url=https%3A//github.com/GoogleCloudPlatform/generative-ai/blob/main/notebook_template.ipynb\" target=\"_blank\">\n",
    "  <img width=\"20px\" src=\"https://redditinc.com/hubfs/Reddit%20Inc/Brand/Reddit_Logo.png\" alt=\"Reddit logo\">\n",
    "</a>\n",
    "\n",
    "<a href=\"https://www.facebook.com/sharer/sharer.php?u=https%3A//github.com/GoogleCloudPlatform/generative-ai/blob/main/notebook_template.ipynb\" target=\"_blank\">\n",
    "  <img width=\"20px\" src=\"https://upload.wikimedia.org/wikipedia/commons/5/51/Facebook_f_logo_%282019%29.svg\" alt=\"Facebook logo\">\n",
    "</a>"
   ]
  },
  {
   "cell_type": "markdown",
   "metadata": {
    "id": "84f0f73a0f76"
   },
   "source": [
    "| Author(s) |\n",
    "| --- |\n",
    "| [Dave Wang](https://github.com/wadave) |"
   ]
  },
  {
   "cell_type": "markdown",
   "metadata": {
    "id": "tvgnzT1CKxrO"
   },
   "source": [
    "## Overview\n",
    "The Model Context Protocol (MCP) is an open standard that simplifies how AI assistants connect with external data, tools, and systems. It achieves this by standardizing the way applications provide contextual information to Large Language Models (LLMs), creating a vital interface for models to interact directly with various external services.\n",
    "\n",
    "Developers building MCP-enabled applications have the flexibility to utilize existing third-party MCP servers or implement their own custom server solutions.\n",
    "\n",
    "This notebook focuses on the latter, demonstrating how to build custom MCP servers using Gemini 2.5 Pro. We will walk through code generation and testing for four specific examples:\n",
    "\n",
    "#### MCP server code generation:\n",
    "- Example 1: Building a BigQuery MCP Server\n",
    "- Example 2: Building a MedlinePlus MCP Server\n",
    "- Example 3: Building an NIH MCP Server\n",
    "- Exmaple 4: Building a Cocktail MCP Server\n",
    "\n",
    "#### MCP server code testing:\n",
    "-  Use Google ADK agent to test"
   ]
  },
  {
   "cell_type": "markdown",
   "metadata": {},
   "source": []
  },
  {
   "cell_type": "markdown",
   "metadata": {
    "id": "61RBz8LLbxCR"
   },
   "source": [
    "## Get started"
   ]
  },
  {
   "cell_type": "markdown",
   "metadata": {
    "id": "No17Cw5hgx12"
   },
   "source": [
    "### Install Google Gen AI SDK and other required packages\n"
   ]
  },
  {
   "cell_type": "code",
   "execution_count": null,
   "metadata": {
    "id": "tFy3H3aPgx12"
   },
   "outputs": [
    {
     "name": "stdout",
     "output_type": "stream",
     "text": [
      "Note: you may need to restart the kernel to use updated packages.\n"
     ]
    }
   ],
   "source": [
    "%pip install --upgrade --quiet google-genai mcp geopy black google-cloud-bigquery google-adk"
   ]
  },
  {
   "cell_type": "markdown",
   "metadata": {
    "id": "dmWOrTJ3gx13"
   },
   "source": [
    "### Authenticate your notebook environment (Colab only)\n",
    "\n",
    "If you're running this notebook on Google Colab, run the cell below to authenticate your environment."
   ]
  },
  {
   "cell_type": "code",
   "execution_count": null,
   "metadata": {
    "id": "NyKGtVQjgx13"
   },
   "outputs": [],
   "source": [
    "import sys\n",
    "\n",
    "if \"google.colab\" in sys.modules:\n",
    "    from google.colab import auth\n",
    "\n",
    "    auth.authenticate_user()"
   ]
  },
  {
   "cell_type": "markdown",
   "metadata": {},
   "source": [
    "### Import Libraries"
   ]
  },
  {
   "cell_type": "code",
   "execution_count": 1,
   "metadata": {},
   "outputs": [],
   "source": [
    "import sys\n",
    "import os\n",
    "import asyncio\n",
    "import datetime\n",
    "import json\n",
    "import requests\n",
    "import black\n",
    "import re\n",
    "\n",
    "from typing import Union, Dict, List, Optional\n",
    "from google.genai.types import (\n",
    "    GenerateContentConfig,\n",
    ")\n",
    "from google import genai\n",
    "from google.genai import types\n",
    "from typing import List, Dict, Any\n",
    "\n",
    "from mcp import ClientSession, StdioServerParameters\n",
    "from mcp.client.stdio import stdio_client\n",
    "from IPython.display import display, Markdown"
   ]
  },
  {
   "cell_type": "markdown",
   "metadata": {},
   "source": [
    "### Helper function\n"
   ]
  },
  {
   "cell_type": "code",
   "execution_count": 2,
   "metadata": {},
   "outputs": [],
   "source": [
    "def get_url_content(url):\n",
    "    try:\n",
    "        # Send an HTTP GET request to the URL\n",
    "        response = requests.get(url)\n",
    "\n",
    "        # Raise an exception if the request returned an error status code (like 404 or 500)\n",
    "        response.raise_for_status()\n",
    "\n",
    "        # Get the content of the response as text (HTML, in this case)\n",
    "        # 'requests' automatically decodes the content based on HTTP headers\n",
    "        file_content = response.text\n",
    "\n",
    "        # Now you can work with the content\n",
    "        print(\"Successfully fetched content\")\n",
    "        return file_content\n",
    "        # Or, save it to a file:\n",
    "        # with open(\"server_page.html\", \"w\", encoding=\"utf-8\") as f:\n",
    "        #     f.write(file_content)\n",
    "        # print(\"Content saved to server_page.html\")\n",
    "\n",
    "    except requests.exceptions.RequestException as e:\n",
    "        # Handle potential errors during the request (e.g., network issues, DNS errors)\n",
    "        print(f\"Error fetching URL {url}: {e}\")\n",
    "    except requests.exceptions.HTTPError as e:\n",
    "        # Handle HTTP error responses (e.g., 404 Not Found, 503 Service Unavailable)\n",
    "        print(f\"HTTP Error for {url}: {e}\")\n",
    "\n",
    "\n",
    "def format_python(raw_code, output_filename):\n",
    "\n",
    "    try:\n",
    "        # Format the code string using black\n",
    "        # Use default FileMode which is generally recommended\n",
    "        formatted_code = black.format_str(raw_code, mode=black.FileMode())\n",
    "\n",
    "        # Save the formatted code to the specified file\n",
    "        with open(output_filename, \"w\", encoding=\"utf-8\") as f:\n",
    "            f.write(formatted_code)\n",
    "\n",
    "        print(f\"Successfully formatted the code and saved it to '{output_filename}'\")\n",
    "\n",
    "    except black.InvalidInput as e:\n",
    "        print(\n",
    "            f\"Error formatting code: The input string does not seem to be valid Python syntax.\"\n",
    "        )\n",
    "        print(f\"Details: {e}\")\n",
    "    except Exception as e:\n",
    "        print(f\"An error occurred while writing the file: {e}\")\n",
    "\n",
    "\n",
    "def extract_json_from_string(input_str: str) -> Optional[Union[Dict, List]]:\n",
    "    \"\"\"\n",
    "    Extracts JSON data from a string, handling potential variations.\n",
    "\n",
    "    This function attempts to find JSON data within a string. It specifically\n",
    "    looks for JSON enclosed in Markdown-like code fences (```json ... ```).\n",
    "    If such a block is found, it extracts and parses the content.\n",
    "    If no code block is found, it attempts to parse the entire input string\n",
    "    as JSON.\n",
    "\n",
    "    Args:\n",
    "        input_str: The string potentially containing JSON data. It might be\n",
    "                   a plain JSON string or contain a Markdown code block\n",
    "                   with JSON, possibly preceded by other text (like 'shame').\n",
    "\n",
    "    Returns:\n",
    "        The parsed JSON object (typically a dictionary or list) if valid\n",
    "        JSON is found and successfully parsed.\n",
    "        Returns None if no valid JSON is found, if parsing fails, or if the\n",
    "        input is not a string.\n",
    "    \"\"\"\n",
    "    if not isinstance(input_str, str):\n",
    "        # Handle cases where input is not a string\n",
    "        return None\n",
    "\n",
    "    # Pattern to find JSON within ```json ... ``` blocks\n",
    "    # - ````json`: Matches the start fence.\n",
    "    # - `\\s*`: Matches any leading whitespace after the fence marker.\n",
    "    # - `(.*?)`: Captures the content (non-greedily) between the fences. This is group 1.\n",
    "    # - `\\s*`: Matches any trailing whitespace before the end fence.\n",
    "    # - ` ``` `: Matches the end fence.\n",
    "    # - `re.DOTALL`: Allows '.' to match newline characters.\n",
    "    pattern = r\"```json\\s*(.*?)\\s*```\"\n",
    "    match = re.search(pattern, input_str, re.DOTALL)\n",
    "\n",
    "    json_string_to_parse = None\n",
    "\n",
    "    if match:\n",
    "        # If a markdown block is found, extract its content\n",
    "        json_string_to_parse = match.group(\n",
    "            1\n",
    "        ).strip()  # Get captured group and remove surrounding whitespace\n",
    "    else:\n",
    "        # If no markdown block, assume the *entire* input might be JSON\n",
    "        # We strip whitespace in case the string is just JSON with padding\n",
    "        json_string_to_parse = input_str.strip()\n",
    "\n",
    "    if not json_string_to_parse:\n",
    "        # If after stripping, the potential JSON string is empty, return None\n",
    "        return None\n",
    "\n",
    "    try:\n",
    "        # Attempt to parse the determined string (either from block or whole input)\n",
    "        parsed_json = json.loads(json_string_to_parse)\n",
    "        return parsed_json\n",
    "    except json.JSONDecodeError:\n",
    "        # Parsing failed, indicating the string wasn't valid JSON\n",
    "        return None\n",
    "    except Exception as e:\n",
    "        # Catch other potential unexpected errors during parsing\n",
    "        print(f\"An unexpected error occurred during JSON parsing: {e}\")\n",
    "        return None\n",
    "\n",
    "\n",
    "from pathlib import Path\n",
    "\n",
    "\n",
    "def create_folder_if_not_exists(folder_path_str: str) -> bool:\n",
    "    \"\"\"\n",
    "    Creates a folder (and any necessary parent folders) if it doesn't already exist.\n",
    "    Uses print() for status and error messages.\n",
    "\n",
    "    Args:\n",
    "        folder_path_str (str): The path string for the folder to be created.\n",
    "                               Can be relative or absolute.\n",
    "\n",
    "    Returns:\n",
    "        bool: True if the folder already exists or was successfully created,\n",
    "              False if an error occurred during creation (e.g., permission denied).\n",
    "    \"\"\"\n",
    "    try:\n",
    "        # Convert the string path to a Path object\n",
    "        folder_path = Path(folder_path_str)\n",
    "\n",
    "        # Use mkdir() with options:\n",
    "        # parents=True: Creates any necessary parent directories. Like 'mkdir -p'.\n",
    "        # exist_ok=True: Doesn't raise an error if the directory already exists.\n",
    "        folder_path.mkdir(parents=True, exist_ok=True)\n",
    "\n",
    "        # Print confirmation (using resolve() to show the absolute path)\n",
    "        print(f\"Info: Successfully ensured folder exists: {folder_path.resolve()}\")\n",
    "        return True\n",
    "\n",
    "    except PermissionError:\n",
    "        print(\n",
    "            f\"Error: Permission denied: Could not create folder at '{folder_path_str}'.\"\n",
    "        )\n",
    "        return False\n",
    "    except OSError as e:\n",
    "        # Catch other OS-related errors (e.g., path is a file, invalid path format on Windows)\n",
    "        print(f\"Error: OS error creating folder '{folder_path_str}': {e}\")\n",
    "        return False\n",
    "    except Exception as e:\n",
    "        # Catch any other unexpected errors\n",
    "        print(\n",
    "            f\"Error: An unexpected error occurred creating folder '{folder_path_str}': {e}\"\n",
    "        )\n",
    "        return False"
   ]
  },
  {
   "cell_type": "code",
   "execution_count": 3,
   "metadata": {},
   "outputs": [
    {
     "name": "stdout",
     "output_type": "stream",
     "text": [
      "Info: Successfully ensured folder exists: /usr/local/google/home/wangdave/remote_ws/projects/vertex_ai_mcp_samples/server\n"
     ]
    },
    {
     "data": {
      "text/plain": [
       "True"
      ]
     },
     "execution_count": 3,
     "metadata": {},
     "output_type": "execute_result"
    }
   ],
   "source": [
    "create_folder_if_not_exists(\"server\")"
   ]
  },
  {
   "cell_type": "markdown",
   "metadata": {
    "id": "DF4l8DTdWgPY"
   },
   "source": [
    "### Option 1 use a  Vertex AI project\n",
    "\n",
    "To get started using Vertex AI, you must have an existing Google Cloud project and [enable the Vertex AI API](https://console.cloud.google.com/flows/enableapi?apiid=aiplatform.googleapis.com).\n",
    "\n",
    "Learn more about [setting up a project and a development environment](https://cloud.google.com/vertex-ai/docs/start/cloud-environment)."
   ]
  },
  {
   "cell_type": "code",
   "execution_count": 24,
   "metadata": {
    "id": "Nqwi-5ufWp_B"
   },
   "outputs": [],
   "source": [
    "# Use the environment variable if the user doesn't provide Project ID.\n",
    "PROJECT_ID = \"[your-project-id]\"  # @param {type: \"string\", placeholder: \"[your-project-id]\", isTemplate: true}\n",
    "if not PROJECT_ID or PROJECT_ID == \"[your-project-id]\":\n",
    "    PROJECT_ID = str(os.environ.get(\"GOOGLE_CLOUD_PROJECT\"))\n",
    "\n",
    "LOCATION = os.environ.get(\"GOOGLE_CLOUD_REGION\", \"us-central1\")\n",
    "client = genai.Client(vertexai=True, project=PROJECT_ID, location=LOCATION)"
   ]
  },
  {
   "cell_type": "markdown",
   "metadata": {},
   "source": [
    "### Option 2. Use a Google API Key (Express Mode)\n",
    "Uncomment the following block to use Express Mode"
   ]
  },
  {
   "cell_type": "code",
   "execution_count": null,
   "metadata": {},
   "outputs": [],
   "source": [
    "# API_KEY = \"[your-api-key]\"  # @param {type: \"string\", placeholder: \"[your-api-key]\", isTemplate: true}\n",
    "\n",
    "# if not API_KEY or API_KEY == \"[your-api-key]\":\n",
    "#     raise Exception(\"You must provide an API key to use Vertex AI in express mode.\")\n",
    "\n",
    "# client = genai.Client(vertexai=True, api_key=API_KEY)"
   ]
  },
  {
   "cell_type": "markdown",
   "metadata": {},
   "source": [
    "## Set up model id"
   ]
  },
  {
   "cell_type": "code",
   "execution_count": 5,
   "metadata": {},
   "outputs": [],
   "source": [
    "MODEL_ID = \"gemini-2.5-pro-exp-03-25\""
   ]
  },
  {
   "cell_type": "markdown",
   "metadata": {},
   "source": [
    "### Get system instruction context info"
   ]
  },
  {
   "cell_type": "code",
   "execution_count": 6,
   "metadata": {},
   "outputs": [
    {
     "name": "stdout",
     "output_type": "stream",
     "text": [
      "Successfully fetched content\n"
     ]
    }
   ],
   "source": [
    "# The URL you want to fetch\n",
    "url = \"https://modelcontextprotocol.io/quickstart/server\"\n",
    "reference_content = get_url_content(url)"
   ]
  },
  {
   "cell_type": "markdown",
   "metadata": {},
   "source": [
    "### Set up system instruction"
   ]
  },
  {
   "cell_type": "code",
   "execution_count": 7,
   "metadata": {},
   "outputs": [],
   "source": [
    "from pydantic import BaseModel\n",
    "\n",
    "\n",
    "class ResponseSchema(BaseModel):\n",
    "    python_code: str\n",
    "    description: str\n",
    "\n",
    "\n",
    "system_instruction = f\"\"\"\n",
    "  You are an MCP server export.\n",
    "  Your mission is to write python code for MCP server.\n",
    "  Here's the MCP server development guide and example\n",
    "  {reference_content}\n",
    "  \n",
    "\"\"\""
   ]
  },
  {
   "cell_type": "markdown",
   "metadata": {},
   "source": [
    "#### Set function to generate MCP server code"
   ]
  },
  {
   "cell_type": "code",
   "execution_count": 8,
   "metadata": {},
   "outputs": [],
   "source": [
    "def generate_mcp_server(prompt):\n",
    "    response = client.models.generate_content(\n",
    "        model=MODEL_ID,\n",
    "        contents=prompt,\n",
    "        config=GenerateContentConfig(\n",
    "            system_instruction=system_instruction,\n",
    "            response_mime_type=\"application/json\",\n",
    "            response_schema=ResponseSchema,\n",
    "        ),\n",
    "    )\n",
    "\n",
    "    return response.text"
   ]
  },
  {
   "cell_type": "markdown",
   "metadata": {},
   "source": []
  },
  {
   "cell_type": "markdown",
   "metadata": {},
   "source": [
    "## Generate MCP Server Code"
   ]
  },
  {
   "cell_type": "markdown",
   "metadata": {},
   "source": [
    "### Example 1:  Build MCP Server for Google Cloud BigQuery"
   ]
  },
  {
   "cell_type": "code",
   "execution_count": 9,
   "metadata": {},
   "outputs": [],
   "source": [
    "prompt = \"\"\"\n",
    "  Please create an MCP server code for google cloud big query. It has two tools. One is to list tables for all datasets, the other is to describe a table. Google cloud project id and location will be provided in the query string. please use project id to access BigQuery client.\n",
    "  Please output JSON output only.\n",
    "  \n",
    "\"\"\""
   ]
  },
  {
   "cell_type": "code",
   "execution_count": 10,
   "metadata": {},
   "outputs": [],
   "source": [
    "response_text = generate_mcp_server(prompt)"
   ]
  },
  {
   "cell_type": "code",
   "execution_count": 11,
   "metadata": {},
   "outputs": [
    {
     "name": "stdout",
     "output_type": "stream",
     "text": [
      "Successfully formatted the code and saved it to 'server/bq.py'\n"
     ]
    }
   ],
   "source": [
    "python_code = extract_json_from_string(response_text)[\"python_code\"]\n",
    "format_python(python_code, \"server/bq.py\")"
   ]
  },
  {
   "cell_type": "markdown",
   "metadata": {},
   "source": [
    "### Example 2:  Build MCP server for Medlineplus website\n",
    "Create an MCP server for \n",
    "https://medlineplus.gov/about/developers/webservices/ API service"
   ]
  },
  {
   "cell_type": "code",
   "execution_count": 12,
   "metadata": {},
   "outputs": [
    {
     "name": "stdout",
     "output_type": "stream",
     "text": [
      "Successfully formatted the code and saved it to 'server/med.py'\n"
     ]
    }
   ],
   "source": [
    "med_url = \"https://medlineplus.gov/about/developers/webservices/\"\n",
    "med_prompt_base = \"\"\"\n",
    "  Please create an MCP server code for https://medlineplus.gov/about/developers/webservices/. It has one tool, get_medical_term. You provide a medical term, this tool will return explanation of the medial term.\n",
    "  \n",
    "  Here's the API details:\n",
    "  \n",
    "\"\"\"\n",
    "\n",
    "prompt = [med_prompt_base, types.Part.from_uri(file_uri=med_url, mime_type=\"text/html\")]\n",
    "response_text = generate_mcp_server(prompt)\n",
    "python_code = extract_json_from_string(response_text)[\"python_code\"]\n",
    "\n",
    "format_python(python_code, \"server/med.py\")"
   ]
  },
  {
   "cell_type": "markdown",
   "metadata": {},
   "source": [
    "### Example 3: Build MCP Server for NIH"
   ]
  },
  {
   "cell_type": "code",
   "execution_count": 13,
   "metadata": {},
   "outputs": [
    {
     "name": "stdout",
     "output_type": "stream",
     "text": [
      "Successfully formatted the code and saved it to 'server/nih.py'\n"
     ]
    }
   ],
   "source": [
    "nih_url = \"https://clinicaltables.nlm.nih.gov/apidoc/icd10cm/v3/doc.html\"\n",
    "nih_prompt_base = \"\"\"\n",
    "  Please create an MCP server code for NIH. It has one tool, get_icd_10_code. You provide a name or code, it will return top 5 results. \n",
    "  \n",
    "  Here's the API details:\n",
    "\n",
    "\"\"\"\n",
    "prompt = [nih_prompt_base, types.Part.from_uri(file_uri=nih_url, mime_type=\"text/html\")]\n",
    "response_text = generate_mcp_server(prompt)\n",
    "python_code = extract_json_from_string(response_text)[\"python_code\"]\n",
    "\n",
    "format_python(python_code, \"server/nih.py\")"
   ]
  },
  {
   "cell_type": "markdown",
   "metadata": {},
   "source": [
    "### Example 4: Build MCP Server for the Cocktail DB"
   ]
  },
  {
   "cell_type": "code",
   "execution_count": 18,
   "metadata": {},
   "outputs": [
    {
     "name": "stdout",
     "output_type": "stream",
     "text": [
      "Successfully formatted the code and saved it to 'server/cocktail.py'\n"
     ]
    }
   ],
   "source": [
    "ct_url = \"https://www.thecocktaildb.com/api.php\"\n",
    "ct_prompt_base = \"\"\"\n",
    "  Please create an MCP server code for the cocktail db. It has 5 tools:\n",
    "  1. search cocktail by name\n",
    "  2. list all cocktail by first letter\n",
    "  3. search ingredient by name. \n",
    "  4. list random cocktails\n",
    "  5. lookup full cocktail details by id\n",
    "  \n",
    "  Here's the API details:\n",
    "\n",
    "\"\"\"\n",
    "prompt = [ct_prompt_base, types.Part.from_uri(file_uri=ct_url, mime_type=\"text/html\")]\n",
    "response_text = generate_mcp_server(prompt)\n",
    "python_code = extract_json_from_string(response_text)[\"python_code\"]\n",
    "\n",
    "format_python(python_code, \"server/cocktail.py\")"
   ]
  },
  {
   "cell_type": "markdown",
   "metadata": {},
   "source": [
    "## Testing MCP Servers"
   ]
  },
  {
   "cell_type": "markdown",
   "metadata": {},
   "source": [
    "### Testing with Google ADK\n",
    "Note: Please test it in Jupyter Notebook(VSCode, or Vertex AI workbench)"
   ]
  },
  {
   "cell_type": "code",
   "execution_count": 12,
   "metadata": {},
   "outputs": [],
   "source": [
    "from google.adk.tools.mcp_tool.mcp_toolset import (\n",
    "    MCPToolset,\n",
    "    SseServerParams,\n",
    "    StdioServerParameters,\n",
    ")"
   ]
  },
  {
   "cell_type": "code",
   "execution_count": 13,
   "metadata": {},
   "outputs": [],
   "source": [
    "import os\n",
    "\n",
    "os.environ[\"GOOGLE_GENAI_USE_VERTEXAI\"] = \"1\"\n",
    "os.environ[\"GOOGLE_CLOUD_PROJECT\"] = PROJECT_ID\n",
    "os.environ[\"GOOGLE_CLOUD_LOCATION\"] = LOCATION"
   ]
  },
  {
   "cell_type": "code",
   "execution_count": 14,
   "metadata": {},
   "outputs": [],
   "source": [
    "from google.adk.tools.mcp_tool.mcp_toolset import (\n",
    "    MCPToolset,\n",
    "    SseServerParams,\n",
    "    StdioServerParameters,\n",
    ")\n",
    "from google.adk.agents.llm_agent import LlmAgent\n",
    "\n",
    "import asyncio\n",
    "from dotenv import load_dotenv\n",
    "from google.adk.runners import Runner\n",
    "from google.adk.sessions import InMemorySessionService\n",
    "from google.genai import types\n",
    "\n",
    "from google.adk.artifacts.in_memory_artifact_service import InMemoryArtifactService\n",
    "\n",
    "load_dotenv()\n",
    "\n",
    "\n",
    "async def get_tools_async(server_params):\n",
    "    \"\"\"Gets tools from MCP Server.\"\"\"\n",
    "    tools, exit_stack = await MCPToolset.from_server(connection_params=server_params)\n",
    "    # MCP requires maintaining a connection to the local MCP Server.\n",
    "    # Using exit_stack to clean up server connection before exit.\n",
    "    return tools, exit_stack\n",
    "\n",
    "\n",
    "async def get_agent_async(server_params):\n",
    "    \"\"\"Creates an ADK Agent with tools from MCP Server.\"\"\"\n",
    "    tools, exit_stack = await get_tools_async(server_params)\n",
    "    root_agent = LlmAgent(\n",
    "        model=MODEL_ID,\n",
    "        name=\"ai_assistant\",\n",
    "        instruction=\"Use tools to get information to answer user questions\",\n",
    "        tools=tools,\n",
    "    )\n",
    "    return root_agent, exit_stack"
   ]
  },
  {
   "cell_type": "markdown",
   "metadata": {},
   "source": [
    "### An Agent built using Google ADK"
   ]
  },
  {
   "cell_type": "code",
   "execution_count": 15,
   "metadata": {},
   "outputs": [],
   "source": [
    "async def run_adk_agent(server_params, question):\n",
    "    session_service = InMemorySessionService()\n",
    "    artifacts_service = InMemoryArtifactService()\n",
    "    session = session_service.create_session(state={}, app_name=\"my_app\", user_id=\"123\")\n",
    "\n",
    "    query = question\n",
    "    print(\"[user]: \", query)\n",
    "    content = types.Content(role=\"user\", parts=[types.Part(text=query)])\n",
    "    root_agent, exit_stack = await get_agent_async(server_params)\n",
    "    runner = Runner(\n",
    "        app_name=\"my_app\",\n",
    "        agent=root_agent,\n",
    "        artifact_service=artifacts_service,\n",
    "        session_service=session_service,\n",
    "    )\n",
    "    events_async = runner.run_async(\n",
    "        session_id=session.id, user_id=\"123\", new_message=content\n",
    "    )\n",
    "\n",
    "    async for event in events_async:\n",
    "        # print(event)\n",
    "        if event.content.role == \"user\" and event.content.parts[0].text:\n",
    "            print(\"[user]:\", event.content.parts[0].text)\n",
    "        if event.content.parts[0].function_response:\n",
    "            print(\"[-tool_response-]\", event.content.parts[0].function_response)\n",
    "        if event.content.role == \"model\" and event.content.parts[0].text:\n",
    "            print(\"[agent]:\", event.content.parts[0].text)\n",
    "\n",
    "    await exit_stack.aclose()"
   ]
  },
  {
   "cell_type": "code",
   "execution_count": 16,
   "metadata": {},
   "outputs": [],
   "source": [
    "bq_server_params = StdioServerParameters(\n",
    "    command=\"python\",\n",
    "    # Make sure to update to the full absolute path to your server file\n",
    "    args=[\"./server/bq.py\"],\n",
    ")"
   ]
  },
  {
   "cell_type": "code",
   "execution_count": 17,
   "metadata": {},
   "outputs": [
    {
     "name": "stdout",
     "output_type": "stream",
     "text": [
      "[user]:  Please list my BigQuery tables, project id is 'dw-genai-dev', location is 'us'\n"
     ]
    },
    {
     "name": "stderr",
     "output_type": "stream",
     "text": [
      "Warning: there are non-text parts in the response: ['function_call'],returning concatenated text result from text parts,check out the non text parts for full response from model.\n"
     ]
    },
    {
     "name": "stdout",
     "output_type": "stream",
     "text": [
      "[-tool_response-] id='af-a58151f5-a9a7-4bda-84f4-e8df3fa26fa8' name='list_tables' response={'result': CallToolResult(meta=None, content=[TextContent(type='text', text='Dataset: demo_dataset1\\n  Tables:\\n    - item_table\\n    - user_table\\n---\\nDataset: demo_dataset2\\n  Tables:\\n    - item_table\\n    - user_table\\n---', annotations=None)], isError=False)}\n",
      "[agent]: Okay, I found the following datasets and tables in the project 'dw-genai-dev' (location 'us'):\n",
      "\n",
      "**Dataset: demo_dataset1**\n",
      "*   item_table\n",
      "*   user_table\n",
      "\n",
      "**Dataset: demo_dataset2**\n",
      "*   item_table\n",
      "*   user_table\n"
     ]
    }
   ],
   "source": [
    "await run_adk_agent(\n",
    "    bq_server_params,\n",
    "    \"Please list my BigQuery tables, project id is 'dw-genai-dev', location is 'us'\",\n",
    ")"
   ]
  },
  {
   "cell_type": "code",
   "execution_count": 18,
   "metadata": {},
   "outputs": [],
   "source": [
    "med_server_params = StdioServerParameters(\n",
    "    command=\"python\",\n",
    "    # Make sure to update to the full absolute path to your server file\n",
    "    args=[\"./server/med.py\"],\n",
    ")"
   ]
  },
  {
   "cell_type": "code",
   "execution_count": 19,
   "metadata": {},
   "outputs": [
    {
     "name": "stdout",
     "output_type": "stream",
     "text": [
      "[user]:  Please explain flu in detail.\n"
     ]
    },
    {
     "name": "stderr",
     "output_type": "stream",
     "text": [
      "Warning: there are non-text parts in the response: ['function_call'],returning concatenated text result from text parts,check out the non text parts for full response from model.\n"
     ]
    },
    {
     "name": "stdout",
     "output_type": "stream",
     "text": [
      "[-tool_response-] id='af-b4a47ee9-4ae5-4dec-ba53-63bd5eb79229' name='get_medical_term' response={'result': CallToolResult(meta=None, content=[TextContent(type='text', text='Explanation for \\'flu\\':\\n\\nWhat is the <span class=\"qt0\">flu</span>?<p>The <span class=\"qt0\">flu</span>, also called <span class=\"qt0\">influenza</span>, is a respiratory infection caused by viruses. Each year, millions of Americans get sick with the <span class=\"qt0\">flu</span>. Sometimes it causes mild illness. But it can also be serious or even deadly, especially for people over 65, newborn babies, and people with certain chronic illnesses.</p>What causes the <span class=\"qt0\">flu</span>?<p>The <span class=\"qt0\">flu</span> is caused by <span class=\"qt0\">flu</span> viruses that spread from person to person. When someone with the <span class=\"qt0\">flu</span> coughs, sneezes, or talks, they spray tiny droplets. These droplets can land in the mouths or noses of people who are nearby. Less often, a person may get <span class=\"qt0\">flu</span> by touching a surface or object that has <span class=\"qt0\">flu</span> virus on it and then touching their own mouth, nose, or possibly their eyes.</p>What are the symptoms of the <span class=\"qt0\">flu</span>?<p>Symptoms of the <span class=\"qt0\">flu</span> come on suddenly and may include:</p><ul><li>Fever or feeling feverish/chills</li><li>Cough</li><li>Sore throat</li><li>Runny or stuffy nose</li><li>Muscle or body aches</li><li>Headaches</li><li>Fatigue (tiredness)</li></ul><p>Some people may also have vomiting and diarrhea. This is more common in children.</p><p>Sometimes people have trouble figuring out whether they have a cold or the <span class=\"qt0\">flu</span>. There are differences between them:</p>Signs and SymptomsColdFluStart of symptomsSlowlySuddenlyFeverRarelyUsuallyAchesSometimes (slight)UsuallyFatigue, weaknessSometimesUsuallyHeadacheRarelyCommonStuffy nose, sneezing, or sore throatCommonSometimes<p>Sometimes people say that they have a <span class=\"qt0\">\"flu\"</span> when they really have something else. For example, <span class=\"qt0\">\"stomach flu\"</span> isn\\'t the <span class=\"qt0\">flu</span>; it\\'s gastroenteritis.</p>What other problems can the <span class=\"qt0\">flu</span> cause?<p>Some people who get the <span class=\"qt0\">flu</span> will develop complications. Some of these complications can be serious or even life-threatening. They include:</p><ul><li>Bronchitis</li><li>Ear infection</li><li>Sinus infection</li><li>Pneumonia</li><li>Inflammation of the heart (myocarditis), brain (encephalitis), or muscle tissues (myositis, rhabdomyolysis)</li></ul><p>The <span class=\"qt0\">flu</span> also can make chronic health problems worse. For example, people with asthma may have asthma attacks while they have <span class=\"qt0\">flu</span>.</p><p>Certain people are more likely to have complications from the <span class=\"qt0\">flu</span>, including:</p><ul><li>Adults 65 and older</li><li>Pregnant women</li><li>Children younger than 5</li><li>People with certain chronic health conditions, such as asthma, diabetes, and heart disease</li></ul>How is the <span class=\"qt0\">flu</span> diagnosed?<p>To diagnose the <span class=\"qt0\">flu</span>, health care providers will first do a medical history and ask about your symptoms. There are several tests for the <span class=\"qt0\">flu</span>. For the tests, your provider will swipe the inside of your nose or the back of your throat with a swab. Then the swab will be tested for the <span class=\"qt0\">flu</span> virus.</p><p>Some tests are quick and give results in 15-20 minutes. But these tests are not as accurate as other <span class=\"qt0\">flu</span> tests. These other tests can give you the results in one hour or several hours.</p>What are the treatments for the <span class=\"qt0\">flu</span>?<p>Most people with the <span class=\"qt0\">flu</span> recover on their own without medical care. People with mild cases of the <span class=\"qt0\">flu</span> should stay home and avoid contact with others, except to get medical care.</p><p>But if you have symptoms of <span class=\"qt0\">flu</span> and are in a high risk group or are very sick or worried about your illness, contact your health care provider. You might need antiviral medicines to treat your <span class=\"qt0\">flu</span>. Antiviral medicines can make the illness milder and shorten the time you are sick. They also can prevent serious <span class=\"qt0\">flu</span> complications. They usually work best when you start taking them within 2 days of getting sick.</p>Can the <span class=\"qt0\">flu</span> be prevented?<p>The best way to prevent the <span class=\"qt0\">flu is to get a flu</span> vaccine every year. But it\\'s also important to have good health habits like covering your cough and washing your hands often. This can help stop the spread of germs and prevent the <span class=\"qt0\">flu</span>.</p><p>Centers for Disease Control and Prevention</p>', annotations=None)], isError=False)}\n",
      "[agent]: Okay, here's a detailed explanation of the flu (influenza) based on information from MedlinePlus:\n",
      "\n",
      "**What is the flu?**\n",
      "The flu, also known as influenza, is a contagious respiratory illness caused by influenza viruses. It affects millions of people each year. While it often causes mild illness, it can sometimes lead to serious complications or even death, particularly in vulnerable populations like individuals over 65, young children, and those with chronic health conditions.\n",
      "\n",
      "**What causes the flu?**\n",
      "Flu viruses spread primarily from person to person through tiny droplets produced when someone with the flu coughs, sneezes, or talks. These droplets can be inhaled by people nearby. Less commonly, infection can occur by touching a surface or object contaminated with the flu virus and then touching one's own mouth, nose, or eyes.\n",
      "\n",
      "**What are the symptoms of the flu?**\n",
      "Flu symptoms typically appear suddenly and can include:\n",
      "*   Fever or feeling feverish/chills\n",
      "*   Cough\n",
      "*   Sore throat\n",
      "*   Runny or stuffy nose\n",
      "*   Muscle or body aches\n",
      "*   Headaches\n",
      "*   Fatigue (tiredness)\n",
      "*   Some people, especially children, may experience vomiting and diarrhea.\n",
      "\n",
      "It's sometimes confused with the common cold, but flu symptoms usually start suddenly, fever and aches are more common and intense, and fatigue is often more pronounced. What's commonly called \"stomach flu\" is actually gastroenteritis, a different illness.\n",
      "\n",
      "**What other problems can the flu cause?**\n",
      "The flu can lead to complications, some of which can be serious:\n",
      "*   Bronchitis\n",
      "*   Ear infections\n",
      "*   Sinus infections\n",
      "*   Pneumonia\n",
      "*   Inflammation of the heart (myocarditis), brain (encephalitis), or muscle tissues (myositis, rhabdomyolysis)\n",
      "*   It can also worsen chronic health problems, such as triggering asthma attacks in people with asthma.\n",
      "\n",
      "Certain groups are at higher risk for complications: adults 65 and older, pregnant women, children younger than 5, and people with chronic conditions like asthma, diabetes, and heart disease.\n",
      "\n",
      "**How is the flu diagnosed?**\n",
      "Diagnosis usually involves a review of your medical history and symptoms. Tests can confirm the diagnosis. A swab is taken from the inside of your nose or the back of your throat and tested for the flu virus. Rapid tests provide results quickly (15-20 minutes) but may be less accurate than other tests that take one to several hours.\n",
      "\n",
      "**What are the treatments for the flu?**\n",
      "Most people recover on their own with rest and by avoiding contact with others. However, if you belong to a high-risk group, are very sick, or concerned about your illness, you should contact a healthcare provider. Antiviral medications may be prescribed. These drugs can lessen the severity and duration of the illness and help prevent complications. They are most effective when started within two days of symptom onset.\n",
      "\n",
      "**Can the flu be prevented?**\n",
      "Yes. The most effective way to prevent the flu is by getting an annual flu vaccine. Good health habits, such as covering your coughs and sneezes and washing your hands frequently, also play a crucial role in stopping the spread of germs and preventing flu infections.\n"
     ]
    }
   ],
   "source": [
    "await run_adk_agent(med_server_params, \"Please explain flu in detail.\")"
   ]
  },
  {
   "cell_type": "code",
   "execution_count": 20,
   "metadata": {},
   "outputs": [],
   "source": [
    "nih_server_params = StdioServerParameters(\n",
    "    command=\"python\",\n",
    "    # Make sure to update to the full absolute path to your server file\n",
    "    args=[\"./server/nih.py\"],\n",
    ")"
   ]
  },
  {
   "cell_type": "code",
   "execution_count": 21,
   "metadata": {},
   "outputs": [
    {
     "name": "stdout",
     "output_type": "stream",
     "text": [
      "[user]:  Please tell me icd-10 code for pneumonia\n"
     ]
    },
    {
     "name": "stderr",
     "output_type": "stream",
     "text": [
      "Warning: there are non-text parts in the response: ['function_call'],returning concatenated text result from text parts,check out the non text parts for full response from model.\n"
     ]
    },
    {
     "name": "stdout",
     "output_type": "stream",
     "text": [
      "[-tool_response-] id='af-a7f85c7c-1e82-4a25-809b-e2c7b80b2e28' name='get_icd_10_code' response={'result': CallToolResult(meta=None, content=[TextContent(type='text', text='Code: A01.03 - Name: Typhoid pneumonia\\nCode: A02.22 - Name: Salmonella pneumonia\\nCode: A54.84 - Name: Gonococcal pneumonia\\nCode: B01.2 - Name: Varicella pneumonia\\nCode: B06.81 - Name: Rubella pneumonia', annotations=None)], isError=False)}\n",
      "[agent]: Okay, I found several ICD-10 codes related to specific types of pneumonia:\n",
      "\n",
      "*   **A01.03**: Typhoid pneumonia\n",
      "*   **A02.22**: Salmonella pneumonia\n",
      "*   **A54.84**: Gonococcal pneumonia\n",
      "*   **B01.2**: Varicella pneumonia\n",
      "*   **B06.81**: Rubella pneumonia\n",
      "\n",
      "Pneumonia often requires more specific details for accurate coding (like the causative organism). Do you have a more specific type of pneumonia in mind?\n"
     ]
    }
   ],
   "source": [
    "await run_adk_agent(nih_server_params, \"Please tell me icd-10 code for pneumonia\")"
   ]
  },
  {
   "cell_type": "code",
   "execution_count": 22,
   "metadata": {},
   "outputs": [],
   "source": [
    "ct_server_params = StdioServerParameters(\n",
    "    command=\"python\",\n",
    "    args=[\"./server/cocktail2.py\"],\n",
    ")"
   ]
  },
  {
   "cell_type": "code",
   "execution_count": 23,
   "metadata": {},
   "outputs": [
    {
     "name": "stdout",
     "output_type": "stream",
     "text": [
      "[user]:  Please get cocktail margarita id and then full detail of cocktail margarita\n"
     ]
    },
    {
     "name": "stderr",
     "output_type": "stream",
     "text": [
      "Warning: there are non-text parts in the response: ['function_call'],returning concatenated text result from text parts,check out the non text parts for full response from model.\n"
     ]
    },
    {
     "name": "stdout",
     "output_type": "stream",
     "text": [
      "[-tool_response-] id='af-f06e1ca3-a151-4c7c-832e-695c4b333bea' name='search_cocktail_by_name' response={'result': CallToolResult(meta=None, content=[TextContent(type='text', text=\"Name: Margarita, ID: 11007\\n  Instructions: Rub the rim of the glass with the lime slice to make the salt stick to it. Take care to moisten only...\\n  Glass: Cocktail glass\\n  Type: Alcoholic\\n---\\nName: Blue Margarita, ID: 11118\\n  Instructions: Rub rim of cocktail glass with lime juice. Dip rim in coarse salt. Shake tequila, blue curacao, and ...\\n  Glass: Cocktail glass\\n  Type: Alcoholic\\n---\\nName: Tommy's Margarita, ID: 17216\\n  Instructions: Shake and strain into a chilled cocktail glass....\\n  Glass: Old-Fashioned glass\\n  Type: Alcoholic\\n---\\nName: Whitecap Margarita, ID: 16158\\n  Instructions: Place all ingredients in a blender and blend until smooth. This makes one drink....\\n  Glass: Margarita/Coupette glass\\n  Type: Alcoholic\\n---\\nName: Strawberry Margarita, ID: 12322\\n  Instructions: Rub rim of cocktail glass with lemon juice and dip rim in salt. Shake schnapps, tequila, triple sec,...\\n  Glass: Cocktail glass\\n  Type: Alcoholic\\n---\\nName: Smashed Watermelon Margarita, ID: 178332\\n  Instructions: In a mason jar muddle the watermelon and 5 mint leaves together into a puree and strain. Next add th...\\n  Glass: Collins glass\\n  Type: Alcoholic\", annotations=None)], isError=False)}\n"
     ]
    },
    {
     "name": "stderr",
     "output_type": "stream",
     "text": [
      "Warning: there are non-text parts in the response: ['function_call'],returning concatenated text result from text parts,check out the non text parts for full response from model.\n"
     ]
    },
    {
     "name": "stdout",
     "output_type": "stream",
     "text": [
      "[agent]: Okay, I can help with that. First, I'll find the ID for the Margarita cocktail.\n",
      "\n",
      "\n",
      "[-tool_response-] id='af-51ed4794-9d56-44c3-971e-a0e1b643eb03' name='search_cocktail_by_name' response={'result': CallToolResult(meta=None, content=[TextContent(type='text', text=\"Name: Margarita, ID: 11007\\n  Instructions: Rub the rim of the glass with the lime slice to make the salt stick to it. Take care to moisten only...\\n  Glass: Cocktail glass\\n  Type: Alcoholic\\n---\\nName: Blue Margarita, ID: 11118\\n  Instructions: Rub rim of cocktail glass with lime juice. Dip rim in coarse salt. Shake tequila, blue curacao, and ...\\n  Glass: Cocktail glass\\n  Type: Alcoholic\\n---\\nName: Tommy's Margarita, ID: 17216\\n  Instructions: Shake and strain into a chilled cocktail glass....\\n  Glass: Old-Fashioned glass\\n  Type: Alcoholic\\n---\\nName: Whitecap Margarita, ID: 16158\\n  Instructions: Place all ingredients in a blender and blend until smooth. This makes one drink....\\n  Glass: Margarita/Coupette glass\\n  Type: Alcoholic\\n---\\nName: Strawberry Margarita, ID: 12322\\n  Instructions: Rub rim of cocktail glass with lemon juice and dip rim in salt. Shake schnapps, tequila, triple sec,...\\n  Glass: Cocktail glass\\n  Type: Alcoholic\\n---\\nName: Smashed Watermelon Margarita, ID: 178332\\n  Instructions: In a mason jar muddle the watermelon and 5 mint leaves together into a puree and strain. Next add th...\\n  Glass: Collins glass\\n  Type: Alcoholic\", annotations=None)], isError=False)}\n"
     ]
    },
    {
     "name": "stderr",
     "output_type": "stream",
     "text": [
      "Warning: there are non-text parts in the response: ['function_call'],returning concatenated text result from text parts,check out the non text parts for full response from model.\n"
     ]
    },
    {
     "name": "stdout",
     "output_type": "stream",
     "text": [
      "[agent]: Okay, I found the ID for the standard Margarita is 11007. Now I will look up the full details for that ID.\n",
      "\n",
      "\n",
      "[-tool_response-] id='af-15f2c939-82ed-4c27-8c27-5dc947516877' name='lookup_cocktail_by_id' response={'result': CallToolResult(meta=None, content=[TextContent(type='text', text='Name: Margarita, ID: 11007\\n  Instructions: Rub the rim of the glass with the lime slice to make the salt stick to it. Take care to moisten only...\\n  Glass: Cocktail glass\\n  Type: Alcoholic', annotations=None)], isError=False)}\n",
      "[agent]: Okay, I found the ID for the Margarita cocktail is **11007**.\n",
      "\n",
      "Here are the full details for the Margarita:\n",
      "\n",
      "**Name:** Margarita\n",
      "**ID:** 11007\n",
      "**Instructions:** Rub the rim of the glass with the lime slice to make the salt stick to it. Take care to moisten only the outer rim and sprinkle the salt on it. The salt should present to the lips of the imbiber and never mix into the cocktail. Shake the other ingredients with ice, then carefully pour into the glass.\n",
      "**Glass:** Cocktail glass\n",
      "**Type:** Alcoholic\n"
     ]
    }
   ],
   "source": [
    "await run_adk_agent(\n",
    "    ct_server_params,\n",
    "    \"Please get cocktail margarita id and then full detail of cocktail margarita\",\n",
    ")"
   ]
  },
  {
   "cell_type": "code",
   "execution_count": null,
   "metadata": {},
   "outputs": [],
   "source": []
  },
  {
   "cell_type": "code",
   "execution_count": null,
   "metadata": {},
   "outputs": [],
   "source": []
  },
  {
   "cell_type": "markdown",
   "metadata": {},
   "source": [
    "### References:\n",
    "\n",
    "https://modelcontextprotocol.io/introduction  \n",
    "https://github.com/modelcontextprotocol/python-sdk"
   ]
  }
 ],
 "metadata": {
  "colab": {
   "name": "notebook_template.ipynb",
   "toc_visible": true
  },
  "kernelspec": {
   "display_name": "base",
   "language": "python",
   "name": "python3"
  },
  "language_info": {
   "codemirror_mode": {
    "name": "ipython",
    "version": 3
   },
   "file_extension": ".py",
   "mimetype": "text/x-python",
   "name": "python",
   "nbconvert_exporter": "python",
   "pygments_lexer": "ipython3",
   "version": "3.12.9"
  }
 },
 "nbformat": 4,
 "nbformat_minor": 0
}
