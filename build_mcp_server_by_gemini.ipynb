{
 "cells": [
  {
   "cell_type": "code",
   "execution_count": null,
   "metadata": {
    "id": "ur8xi4C7S06n"
   },
   "outputs": [],
   "source": [
    "# Copyright 2025 Google LLC\n",
    "#\n",
    "# Licensed under the Apache License, Version 2.0 (the \"License\");\n",
    "# you may not use this file except in compliance with the License.\n",
    "# You may obtain a copy of the License at\n",
    "#\n",
    "#     https://www.apache.org/licenses/LICENSE-2.0\n",
    "#\n",
    "# Unless required by applicable law or agreed to in writing, software\n",
    "# distributed under the License is distributed on an \"AS IS\" BASIS,\n",
    "# WITHOUT WARRANTIES OR CONDITIONS OF ANY KIND, either express or implied.\n",
    "# See the License for the specific language governing permissions and\n",
    "# limitations under the License."
   ]
  },
  {
   "cell_type": "markdown",
   "metadata": {
    "id": "JAPoU8Sm5E6e"
   },
   "source": [
    "# Use Gemini 2.5 Pro to develop MCP Server\n",
    "\n",
    "\n",
    "\n",
    "   \n",
    "  \n",
    "  <td style=\"text-align: center\">\n",
    "    <a href=\"https://github.com/wadave/vertex_ai_mcp_samples/blob/main/build_mcp_server_by_gemini.ipynb\">\n",
    "      <img width=\"32px\" src=\"https://www.svgrepo.com/download/217753/github.svg\" alt=\"GitHub logo\"><br> View on GitHub\n",
    "    </a>\n",
    "  </td>\n",
    "</table>\n",
    "\n",
    "<div style=\"clear: both;\"></div>\n",
    "\n",
    "<b>Share to:</b>\n",
    "\n",
    "<a href=\"https://www.linkedin.com/sharing/share-offsite/?url=https%3A//github.com/GoogleCloudPlatform/generative-ai/blob/main/notebook_template.ipynb\" target=\"_blank\">\n",
    "  <img width=\"20px\" src=\"https://upload.wikimedia.org/wikipedia/commons/8/81/LinkedIn_icon.svg\" alt=\"LinkedIn logo\">\n",
    "</a>\n",
    "\n",
    "<a href=\"https://bsky.app/intent/compose?text=https%3A//github.com/GoogleCloudPlatform/generative-ai/blob/main/notebook_template.ipynb\" target=\"_blank\">\n",
    "  <img width=\"20px\" src=\"https://upload.wikimedia.org/wikipedia/commons/7/7a/Bluesky_Logo.svg\" alt=\"Bluesky logo\">\n",
    "</a>\n",
    "\n",
    "<a href=\"https://twitter.com/intent/tweet?url=https%3A//github.com/GoogleCloudPlatform/generative-ai/blob/main/notebook_template.ipynb\" target=\"_blank\">\n",
    "  <img width=\"20px\" src=\"https://upload.wikimedia.org/wikipedia/commons/5/5a/X_icon_2.svg\" alt=\"X logo\">\n",
    "</a>\n",
    "\n",
    "<a href=\"https://reddit.com/submit?url=https%3A//github.com/GoogleCloudPlatform/generative-ai/blob/main/notebook_template.ipynb\" target=\"_blank\">\n",
    "  <img width=\"20px\" src=\"https://redditinc.com/hubfs/Reddit%20Inc/Brand/Reddit_Logo.png\" alt=\"Reddit logo\">\n",
    "</a>\n",
    "\n",
    "<a href=\"https://www.facebook.com/sharer/sharer.php?u=https%3A//github.com/GoogleCloudPlatform/generative-ai/blob/main/notebook_template.ipynb\" target=\"_blank\">\n",
    "  <img width=\"20px\" src=\"https://upload.wikimedia.org/wikipedia/commons/5/51/Facebook_f_logo_%282019%29.svg\" alt=\"Facebook logo\">\n",
    "</a>"
   ]
  },
  {
   "cell_type": "markdown",
   "metadata": {
    "id": "84f0f73a0f76"
   },
   "source": [
    "| Author(s) |\n",
    "| --- |\n",
    "| [Dave Wang](https://github.com/wadave) |"
   ]
  },
  {
   "cell_type": "markdown",
   "metadata": {
    "id": "tvgnzT1CKxrO"
   },
   "source": [
    "## Overview\n",
    "The Model Context Protocol (MCP) is an open standard that simplifies how AI assistants connect with external data, tools, and systems. It achieves this by standardizing the way applications provide contextual information to Large Language Models (LLMs), creating a vital interface for models to interact directly with various external services.\n",
    "\n",
    "Developers building MCP-enabled applications have the flexibility to utilize existing third-party MCP servers or implement their own custom server solutions.\n",
    "\n",
    "This notebook focuses on the latter, demonstrating how to build custom MCP servers using Gemini 2.5 Pro. We will walk through code generation and testing for four specific examples:\n",
    "\n",
    "#### MCP server code generation:\n",
    "- Example 1: Building a BigQuery MCP Server\n",
    "- Example 2: Building a MedlinePlus MCP Server\n",
    "- Example 3: Building an NIH MCP Server\n",
    "- Exmaple 4: Building a Cocktail MCP Server\n",
    "\n",
    "#### MCP server code testing:\n",
    "- Option 1: Use LangChain MCP Adaptor (working in Jupyter Notebook only, not Colab)\n",
    "- Option 2: Build your own agent\n",
    "- Option 3: Use Google ADK "
   ]
  },
  {
   "cell_type": "markdown",
   "metadata": {},
   "source": []
  },
  {
   "cell_type": "markdown",
   "metadata": {
    "id": "61RBz8LLbxCR"
   },
   "source": [
    "## Get started"
   ]
  },
  {
   "cell_type": "markdown",
   "metadata": {
    "id": "No17Cw5hgx12"
   },
   "source": [
    "### Install Google Gen AI SDK and other required packages\n"
   ]
  },
  {
   "cell_type": "code",
   "execution_count": 1,
   "metadata": {
    "id": "tFy3H3aPgx12"
   },
   "outputs": [
    {
     "name": "stdout",
     "output_type": "stream",
     "text": [
      "Note: you may need to restart the kernel to use updated packages.\n"
     ]
    }
   ],
   "source": [
    "%pip install --upgrade --quiet google-genai google-cloud-secret-manager mcp geopy black google-cloud-bigquery langchain-mcp-adapters langchain langchain-google-vertexai langgraph google-adk"
   ]
  },
  {
   "cell_type": "markdown",
   "metadata": {
    "id": "dmWOrTJ3gx13"
   },
   "source": [
    "### Authenticate your notebook environment (Colab only)\n",
    "\n",
    "If you're running this notebook on Google Colab, run the cell below to authenticate your environment."
   ]
  },
  {
   "cell_type": "code",
   "execution_count": null,
   "metadata": {
    "id": "NyKGtVQjgx13"
   },
   "outputs": [],
   "source": [
    "import sys\n",
    "\n",
    "if \"google.colab\" in sys.modules:\n",
    "    from google.colab import auth\n",
    "\n",
    "    auth.authenticate_user()"
   ]
  },
  {
   "cell_type": "markdown",
   "metadata": {},
   "source": [
    "### Import Libraries"
   ]
  },
  {
   "cell_type": "code",
   "execution_count": 1,
   "metadata": {},
   "outputs": [],
   "source": [
    "import sys\n",
    "import os\n",
    "import asyncio\n",
    "import datetime\n",
    "import json\n",
    "import requests\n",
    "import black\n",
    "import re\n",
    "\n",
    "from typing import Union, Dict, List, Optional\n",
    "from google.genai.types import (\n",
    "    GenerateContentConfig,\n",
    ")\n",
    "from google import genai\n",
    "from google.genai import types\n",
    "from google.cloud import aiplatform\n",
    "from typing import List, Dict, Any\n",
    "\n",
    "from mcp import ClientSession, StdioServerParameters\n",
    "from mcp.client.stdio import stdio_client\n",
    "\n",
    "from langchain_mcp_adapters.tools import load_mcp_tools\n",
    "from langgraph.prebuilt import create_react_agent\n",
    "\n",
    "from langchain_google_vertexai import ChatVertexAI\n",
    "from langchain_mcp_adapters.client import MultiServerMCPClient\n",
    "from IPython.display import display, Markdown\n",
    "from langchain_core.messages import HumanMessage, ToolMessage, AIMessage"
   ]
  },
  {
   "cell_type": "markdown",
   "metadata": {},
   "source": [
    "### Helper function\n"
   ]
  },
  {
   "cell_type": "code",
   "execution_count": 2,
   "metadata": {},
   "outputs": [],
   "source": [
    "def get_url_content(url):\n",
    "    try:\n",
    "        # Send an HTTP GET request to the URL\n",
    "        response = requests.get(url)\n",
    "\n",
    "        # Raise an exception if the request returned an error status code (like 404 or 500)\n",
    "        response.raise_for_status()\n",
    "\n",
    "        # Get the content of the response as text (HTML, in this case)\n",
    "        # 'requests' automatically decodes the content based on HTTP headers\n",
    "        file_content = response.text\n",
    "\n",
    "        # Now you can work with the content\n",
    "        print(\"Successfully fetched content\")\n",
    "        return file_content\n",
    "        # Or, save it to a file:\n",
    "        # with open(\"server_page.html\", \"w\", encoding=\"utf-8\") as f:\n",
    "        #     f.write(file_content)\n",
    "        # print(\"Content saved to server_page.html\")\n",
    "\n",
    "    except requests.exceptions.RequestException as e:\n",
    "        # Handle potential errors during the request (e.g., network issues, DNS errors)\n",
    "        print(f\"Error fetching URL {url}: {e}\")\n",
    "    except requests.exceptions.HTTPError as e:\n",
    "        # Handle HTTP error responses (e.g., 404 Not Found, 503 Service Unavailable)\n",
    "        print(f\"HTTP Error for {url}: {e}\")\n",
    "\n",
    "\n",
    "def format_python(raw_code, output_filename):\n",
    "\n",
    "    try:\n",
    "        # Format the code string using black\n",
    "        # Use default FileMode which is generally recommended\n",
    "        formatted_code = black.format_str(raw_code, mode=black.FileMode())\n",
    "\n",
    "        # Save the formatted code to the specified file\n",
    "        with open(output_filename, \"w\", encoding=\"utf-8\") as f:\n",
    "            f.write(formatted_code)\n",
    "\n",
    "        print(f\"Successfully formatted the code and saved it to '{output_filename}'\")\n",
    "\n",
    "    except black.InvalidInput as e:\n",
    "        print(\n",
    "            f\"Error formatting code: The input string does not seem to be valid Python syntax.\"\n",
    "        )\n",
    "        print(f\"Details: {e}\")\n",
    "    except Exception as e:\n",
    "        print(f\"An error occurred while writing the file: {e}\")\n",
    "\n",
    "\n",
    "def extract_json_from_string(input_str: str) -> Optional[Union[Dict, List]]:\n",
    "    \"\"\"\n",
    "    Extracts JSON data from a string, handling potential variations.\n",
    "\n",
    "    This function attempts to find JSON data within a string. It specifically\n",
    "    looks for JSON enclosed in Markdown-like code fences (```json ... ```).\n",
    "    If such a block is found, it extracts and parses the content.\n",
    "    If no code block is found, it attempts to parse the entire input string\n",
    "    as JSON.\n",
    "\n",
    "    Args:\n",
    "        input_str: The string potentially containing JSON data. It might be\n",
    "                   a plain JSON string or contain a Markdown code block\n",
    "                   with JSON, possibly preceded by other text (like 'shame').\n",
    "\n",
    "    Returns:\n",
    "        The parsed JSON object (typically a dictionary or list) if valid\n",
    "        JSON is found and successfully parsed.\n",
    "        Returns None if no valid JSON is found, if parsing fails, or if the\n",
    "        input is not a string.\n",
    "    \"\"\"\n",
    "    if not isinstance(input_str, str):\n",
    "        # Handle cases where input is not a string\n",
    "        return None\n",
    "\n",
    "    # Pattern to find JSON within ```json ... ``` blocks\n",
    "    # - ````json`: Matches the start fence.\n",
    "    # - `\\s*`: Matches any leading whitespace after the fence marker.\n",
    "    # - `(.*?)`: Captures the content (non-greedily) between the fences. This is group 1.\n",
    "    # - `\\s*`: Matches any trailing whitespace before the end fence.\n",
    "    # - ` ``` `: Matches the end fence.\n",
    "    # - `re.DOTALL`: Allows '.' to match newline characters.\n",
    "    pattern = r\"```json\\s*(.*?)\\s*```\"\n",
    "    match = re.search(pattern, input_str, re.DOTALL)\n",
    "\n",
    "    json_string_to_parse = None\n",
    "\n",
    "    if match:\n",
    "        # If a markdown block is found, extract its content\n",
    "        json_string_to_parse = match.group(\n",
    "            1\n",
    "        ).strip()  # Get captured group and remove surrounding whitespace\n",
    "    else:\n",
    "        # If no markdown block, assume the *entire* input might be JSON\n",
    "        # We strip whitespace in case the string is just JSON with padding\n",
    "        json_string_to_parse = input_str.strip()\n",
    "\n",
    "    if not json_string_to_parse:\n",
    "        # If after stripping, the potential JSON string is empty, return None\n",
    "        return None\n",
    "\n",
    "    try:\n",
    "        # Attempt to parse the determined string (either from block or whole input)\n",
    "        parsed_json = json.loads(json_string_to_parse)\n",
    "        return parsed_json\n",
    "    except json.JSONDecodeError:\n",
    "        # Parsing failed, indicating the string wasn't valid JSON\n",
    "        return None\n",
    "    except Exception as e:\n",
    "        # Catch other potential unexpected errors during parsing\n",
    "        print(f\"An unexpected error occurred during JSON parsing: {e}\")\n",
    "        return None\n",
    "\n",
    "\n",
    "from pathlib import Path\n",
    "\n",
    "\n",
    "def create_folder_if_not_exists(folder_path_str: str) -> bool:\n",
    "    \"\"\"\n",
    "    Creates a folder (and any necessary parent folders) if it doesn't already exist.\n",
    "    Uses print() for status and error messages.\n",
    "\n",
    "    Args:\n",
    "        folder_path_str (str): The path string for the folder to be created.\n",
    "                               Can be relative or absolute.\n",
    "\n",
    "    Returns:\n",
    "        bool: True if the folder already exists or was successfully created,\n",
    "              False if an error occurred during creation (e.g., permission denied).\n",
    "    \"\"\"\n",
    "    try:\n",
    "        # Convert the string path to a Path object\n",
    "        folder_path = Path(folder_path_str)\n",
    "\n",
    "        # Use mkdir() with options:\n",
    "        # parents=True: Creates any necessary parent directories. Like 'mkdir -p'.\n",
    "        # exist_ok=True: Doesn't raise an error if the directory already exists.\n",
    "        folder_path.mkdir(parents=True, exist_ok=True)\n",
    "\n",
    "        # Print confirmation (using resolve() to show the absolute path)\n",
    "        print(f\"Info: Successfully ensured folder exists: {folder_path.resolve()}\")\n",
    "        return True\n",
    "\n",
    "    except PermissionError:\n",
    "        print(\n",
    "            f\"Error: Permission denied: Could not create folder at '{folder_path_str}'.\"\n",
    "        )\n",
    "        return False\n",
    "    except OSError as e:\n",
    "        # Catch other OS-related errors (e.g., path is a file, invalid path format on Windows)\n",
    "        print(f\"Error: OS error creating folder '{folder_path_str}': {e}\")\n",
    "        return False\n",
    "    except Exception as e:\n",
    "        # Catch any other unexpected errors\n",
    "        print(\n",
    "            f\"Error: An unexpected error occurred creating folder '{folder_path_str}': {e}\"\n",
    "        )\n",
    "        return False"
   ]
  },
  {
   "cell_type": "code",
   "execution_count": 3,
   "metadata": {},
   "outputs": [
    {
     "name": "stdout",
     "output_type": "stream",
     "text": [
      "Info: Successfully ensured folder exists: /usr/local/google/home/wangdave/remote_ws/projects/gitlab_vertexai_mcp_samples/server\n"
     ]
    },
    {
     "data": {
      "text/plain": [
       "True"
      ]
     },
     "execution_count": 3,
     "metadata": {},
     "output_type": "execute_result"
    }
   ],
   "source": [
    "create_folder_if_not_exists(\"server\")"
   ]
  },
  {
   "cell_type": "markdown",
   "metadata": {
    "id": "DF4l8DTdWgPY"
   },
   "source": [
    "### Option 1 use a  Vertex AI project\n",
    "\n",
    "To get started using Vertex AI, you must have an existing Google Cloud project and [enable the Vertex AI API](https://console.cloud.google.com/flows/enableapi?apiid=aiplatform.googleapis.com).\n",
    "\n",
    "Learn more about [setting up a project and a development environment](https://cloud.google.com/vertex-ai/docs/start/cloud-environment)."
   ]
  },
  {
   "cell_type": "code",
   "execution_count": 24,
   "metadata": {
    "id": "Nqwi-5ufWp_B"
   },
   "outputs": [],
   "source": [
    "# Use the environment variable if the user doesn't provide Project ID.\n",
    "PROJECT_ID = \"[your-project-id]\"  # @param {type: \"string\", placeholder: \"[your-project-id]\", isTemplate: true}\n",
    "if not PROJECT_ID or PROJECT_ID == \"[your-project-id]\":\n",
    "    PROJECT_ID = str(os.environ.get(\"GOOGLE_CLOUD_PROJECT\"))\n",
    "\n",
    "LOCATION = os.environ.get(\"GOOGLE_CLOUD_REGION\", \"us-central1\")\n",
    "client = genai.Client(vertexai=True, project=PROJECT_ID, location=LOCATION)"
   ]
  },
  {
   "cell_type": "markdown",
   "metadata": {},
   "source": [
    "### Option 2. Use a Google API Key (Express Mode)\n",
    "Uncomment the following block to use Express Mode"
   ]
  },
  {
   "cell_type": "code",
   "execution_count": null,
   "metadata": {},
   "outputs": [],
   "source": [
    "# API_KEY = \"[your-api-key]\"  # @param {type: \"string\", placeholder: \"[your-api-key]\", isTemplate: true}\n",
    "\n",
    "# if not API_KEY or API_KEY == \"[your-api-key]\":\n",
    "#     raise Exception(\"You must provide an API key to use Vertex AI in express mode.\")\n",
    "\n",
    "# client = genai.Client(vertexai=True, api_key=API_KEY)"
   ]
  },
  {
   "cell_type": "markdown",
   "metadata": {},
   "source": [
    "## Set up model id"
   ]
  },
  {
   "cell_type": "code",
   "execution_count": 4,
   "metadata": {},
   "outputs": [],
   "source": [
    "MODEL_ID = \"gemini-2.5-pro-exp-03-25\""
   ]
  },
  {
   "cell_type": "markdown",
   "metadata": {},
   "source": [
    "### Get system instruction context info"
   ]
  },
  {
   "cell_type": "code",
   "execution_count": 5,
   "metadata": {},
   "outputs": [
    {
     "name": "stdout",
     "output_type": "stream",
     "text": [
      "Successfully fetched content\n"
     ]
    }
   ],
   "source": [
    "# The URL you want to fetch\n",
    "url = \"https://modelcontextprotocol.io/quickstart/server\"\n",
    "reference_content = get_url_content(url)"
   ]
  },
  {
   "cell_type": "markdown",
   "metadata": {},
   "source": [
    "### Set up system instruction"
   ]
  },
  {
   "cell_type": "code",
   "execution_count": 6,
   "metadata": {},
   "outputs": [],
   "source": [
    "from pydantic import BaseModel\n",
    "\n",
    "\n",
    "class ResponseSchema(BaseModel):\n",
    "    python_code: str\n",
    "    description: str\n",
    "\n",
    "\n",
    "system_instruction = f\"\"\"\n",
    "  You are an MCP server export.\n",
    "  Your mission is to write python code for MCP server.\n",
    "  Here's the MCP server development guide and example\n",
    "  {reference_content}\n",
    "  \n",
    "\"\"\""
   ]
  },
  {
   "cell_type": "markdown",
   "metadata": {},
   "source": [
    "#### Set function to generate MCP server code"
   ]
  },
  {
   "cell_type": "code",
   "execution_count": 7,
   "metadata": {},
   "outputs": [],
   "source": [
    "def generate_mcp_server(prompt):\n",
    "    response = client.models.generate_content(\n",
    "        model=MODEL_ID,\n",
    "        contents=prompt,\n",
    "        config=GenerateContentConfig(\n",
    "            system_instruction=system_instruction,\n",
    "            response_mime_type=\"application/json\",\n",
    "            response_schema=ResponseSchema,\n",
    "        ),\n",
    "    )\n",
    "\n",
    "    return response.text"
   ]
  },
  {
   "cell_type": "markdown",
   "metadata": {},
   "source": []
  },
  {
   "cell_type": "markdown",
   "metadata": {},
   "source": [
    "## Generate MCP Server Code"
   ]
  },
  {
   "cell_type": "markdown",
   "metadata": {},
   "source": [
    "### Example 1:  Build MCP Server for Google Cloud BigQuery"
   ]
  },
  {
   "cell_type": "code",
   "execution_count": 20,
   "metadata": {},
   "outputs": [],
   "source": [
    "prompt = \"\"\"\n",
    "  Please create an MCP server code for google cloud big query. It has two tools. One is to list tables for all datasets, the other is to describe a table. Google cloud project id and location will be provided in the query string. please use project id to access BigQuery client.\n",
    "  Please output JSON output only.\n",
    "  \n",
    "\"\"\""
   ]
  },
  {
   "cell_type": "code",
   "execution_count": 21,
   "metadata": {},
   "outputs": [],
   "source": [
    "response_text = generate_mcp_server(prompt)"
   ]
  },
  {
   "cell_type": "code",
   "execution_count": 22,
   "metadata": {},
   "outputs": [
    {
     "name": "stdout",
     "output_type": "stream",
     "text": [
      "Successfully formatted the code and saved it to 'server/bq.py'\n"
     ]
    }
   ],
   "source": [
    "python_code = extract_json_from_string(response_text)[\"python_code\"]\n",
    "format_python(python_code, \"server/bq.py\")"
   ]
  },
  {
   "cell_type": "markdown",
   "metadata": {},
   "source": [
    "### Example 2:  Build MCP server for Medlineplus website\n",
    "Create an MCP server for \n",
    "https://medlineplus.gov/about/developers/webservices/ API service"
   ]
  },
  {
   "cell_type": "code",
   "execution_count": 12,
   "metadata": {},
   "outputs": [
    {
     "name": "stdout",
     "output_type": "stream",
     "text": [
      "Successfully formatted the code and saved it to 'server/med.py'\n"
     ]
    }
   ],
   "source": [
    "med_url = \"https://medlineplus.gov/about/developers/webservices/\"\n",
    "med_prompt_base = \"\"\"\n",
    "  Please create an MCP server code for https://medlineplus.gov/about/developers/webservices/. It has one tool, get_medical_term. You provide a medical term, this tool will return explanation of the medial term.\n",
    "  \n",
    "  Here's the API details:\n",
    "  \n",
    "\"\"\"\n",
    "\n",
    "prompt = [med_prompt_base, types.Part.from_uri(file_uri=med_url, mime_type=\"text/html\")]\n",
    "response_text = generate_mcp_server(prompt)\n",
    "python_code = extract_json_from_string(response_text)[\"python_code\"]\n",
    "\n",
    "format_python(python_code, \"server/med.py\")"
   ]
  },
  {
   "cell_type": "markdown",
   "metadata": {},
   "source": [
    "### Example 3: Build MCP Server for NIH"
   ]
  },
  {
   "cell_type": "code",
   "execution_count": 13,
   "metadata": {},
   "outputs": [
    {
     "name": "stdout",
     "output_type": "stream",
     "text": [
      "Successfully formatted the code and saved it to 'server/nih.py'\n"
     ]
    }
   ],
   "source": [
    "nih_url = \"https://clinicaltables.nlm.nih.gov/apidoc/icd10cm/v3/doc.html\"\n",
    "nih_prompt_base = \"\"\"\n",
    "  Please create an MCP server code for NIH. It has one tool, get_icd_10_code. You provide a name or code, it will return top 5 results. \n",
    "  \n",
    "  Here's the API details:\n",
    "\n",
    "\"\"\"\n",
    "prompt = [nih_prompt_base, types.Part.from_uri(file_uri=nih_url, mime_type=\"text/html\")]\n",
    "response_text = generate_mcp_server(prompt)\n",
    "python_code = extract_json_from_string(response_text)[\"python_code\"]\n",
    "\n",
    "format_python(python_code, \"server/nih.py\")"
   ]
  },
  {
   "cell_type": "markdown",
   "metadata": {},
   "source": [
    "### Example 4: Build MCP Server for the Cocktail DB"
   ]
  },
  {
   "cell_type": "code",
   "execution_count": 18,
   "metadata": {},
   "outputs": [
    {
     "name": "stdout",
     "output_type": "stream",
     "text": [
      "Successfully formatted the code and saved it to 'server/cocktail.py'\n"
     ]
    }
   ],
   "source": [
    "ct_url = \"https://www.thecocktaildb.com/api.php\"\n",
    "ct_prompt_base = \"\"\"\n",
    "  Please create an MCP server code for the cocktail db. It has 5 tools:\n",
    "  1. search cocktail by name\n",
    "  2. list all cocktail by first letter\n",
    "  3. search ingredient by name. \n",
    "  4. list random cocktails\n",
    "  5. lookup full cocktail details by id\n",
    "  \n",
    "  Here's the API details:\n",
    "\n",
    "\"\"\"\n",
    "prompt = [ct_prompt_base, types.Part.from_uri(file_uri=ct_url, mime_type=\"text/html\")]\n",
    "response_text = generate_mcp_server(prompt)\n",
    "python_code = extract_json_from_string(response_text)[\"python_code\"]\n",
    "\n",
    "format_python(python_code, \"server/cocktail.py\")"
   ]
  },
  {
   "cell_type": "markdown",
   "metadata": {},
   "source": [
    "## Testing MCP Servers"
   ]
  },
  {
   "cell_type": "markdown",
   "metadata": {},
   "source": [
    "### Option 1: Use LangChain MCP adaptor to test MCP servers \n",
    "It works in Jupyter Notebook only, not working in Colab. "
   ]
  },
  {
   "cell_type": "code",
   "execution_count": 14,
   "metadata": {},
   "outputs": [],
   "source": [
    "aiplatform.init(\n",
    "    project=PROJECT_ID,\n",
    "    location=LOCATION,\n",
    ")"
   ]
  },
  {
   "cell_type": "code",
   "execution_count": 15,
   "metadata": {},
   "outputs": [],
   "source": [
    "llm = ChatVertexAI(\n",
    "    model=\"gemini-2.5-pro-exp-03-25\",\n",
    "    temperature=0,\n",
    "    max_tokens=None,\n",
    "    max_retries=6,\n",
    "    stop=None,\n",
    ")"
   ]
  },
  {
   "cell_type": "code",
   "execution_count": 16,
   "metadata": {},
   "outputs": [],
   "source": [
    "server_configs = {\n",
    "    \"nih\": {\n",
    "        \"command\": \"python\",\n",
    "        \"args\": [\"./server/nih.py\"],\n",
    "        \"transport\": \"stdio\",\n",
    "    },\n",
    "    \"med\": {\n",
    "        \"command\": \"python\",\n",
    "        \"args\": [\"./server/med.py\"],\n",
    "        \"transport\": \"stdio\",\n",
    "    },\n",
    "    \"bq\": {\n",
    "        \"command\": \"python\",\n",
    "        \"args\": [\"./server/bq.py\"],\n",
    "        \"transport\": \"stdio\",\n",
    "    },\n",
    "    \"cocktail\": {\n",
    "        \"command\": \"python\",\n",
    "        \"args\": [\"./server/cocktail.py\"],\n",
    "        \"transport\": \"stdio\",\n",
    "    },\n",
    "}"
   ]
  },
  {
   "cell_type": "markdown",
   "metadata": {},
   "source": [
    "Set up MCP Client using LangChain MCP Adaptor "
   ]
  },
  {
   "cell_type": "code",
   "execution_count": 17,
   "metadata": {},
   "outputs": [],
   "source": [
    "async def run_lc_react_agent(server_configs, message):\n",
    "    async with MultiServerMCPClient(server_configs) as client:\n",
    "        agent = create_react_agent(llm, client.get_tools())\n",
    "\n",
    "        agent_response = await agent.ainvoke({\"messages\": message})\n",
    "        for response in agent_response[\"messages\"]:\n",
    "            user = \"\"\n",
    "\n",
    "            if isinstance(response, HumanMessage):\n",
    "                user = \"[User]\"\n",
    "            elif isinstance(response, ToolMessage):\n",
    "                user = \"-Tool-\"\n",
    "            elif isinstance(response, AIMessage):\n",
    "                user = \"[Agent]\"\n",
    "\n",
    "            if isinstance(response.content, list):\n",
    "                display(Markdown(f'{user}: {response.content[0].get(\"text\", \"\")}'))\n",
    "                continue\n",
    "            display(Markdown(f\"{user}: {response.content}\"))"
   ]
  },
  {
   "cell_type": "markdown",
   "metadata": {},
   "source": [
    "#### Example 1: BigQuery MCP server testing"
   ]
  },
  {
   "cell_type": "code",
   "execution_count": 23,
   "metadata": {},
   "outputs": [
    {
     "data": {
      "text/markdown": [
       "[User]: Please list my bigquery tables for project 'dw-genai-dev', the location is 'us'"
      ],
      "text/plain": [
       "<IPython.core.display.Markdown object>"
      ]
     },
     "metadata": {},
     "output_type": "display_data"
    },
    {
     "data": {
      "text/markdown": [
       "[Agent]: "
      ],
      "text/plain": [
       "<IPython.core.display.Markdown object>"
      ]
     },
     "metadata": {},
     "output_type": "display_data"
    },
    {
     "data": {
      "text/markdown": [
       "-Tool-: Datasets and tables in project 'dw-genai-dev':\n",
       "\n",
       "Dataset: demo_dataset1\n",
       "  - Table: item_table\n",
       "  - Table: user_table\n",
       "\n",
       "Dataset: demo_dataset2\n",
       "  - Table: item_table\n",
       "  - Table: user_table"
      ],
      "text/plain": [
       "<IPython.core.display.Markdown object>"
      ]
     },
     "metadata": {},
     "output_type": "display_data"
    },
    {
     "data": {
      "text/markdown": [
       "[Agent]: Okay, I can help with that. Here are the datasets and tables in the Google Cloud project 'dw-genai-dev' located in 'us':\n",
       "\n",
       "**Dataset: demo_dataset1**\n",
       "*   Table: item_table\n",
       "*   Table: user_table\n",
       "\n",
       "**Dataset: demo_dataset2**\n",
       "*   Table: item_table\n",
       "*   Table: user_table"
      ],
      "text/plain": [
       "<IPython.core.display.Markdown object>"
      ]
     },
     "metadata": {},
     "output_type": "display_data"
    }
   ],
   "source": [
    "await run_lc_react_agent(\n",
    "    server_configs,\n",
    "    \"Please list my bigquery tables for project 'dw-genai-dev', the location is 'us'\",\n",
    ")"
   ]
  },
  {
   "cell_type": "markdown",
   "metadata": {},
   "source": [
    "#### Example 2: MedlinePlus MCP server testing"
   ]
  },
  {
   "cell_type": "code",
   "execution_count": 24,
   "metadata": {},
   "outputs": [
    {
     "data": {
      "text/markdown": [
       "[User]: Please explain flu in details"
      ],
      "text/plain": [
       "<IPython.core.display.Markdown object>"
      ]
     },
     "metadata": {},
     "output_type": "display_data"
    },
    {
     "data": {
      "text/markdown": [
       "[Agent]: "
      ],
      "text/plain": [
       "<IPython.core.display.Markdown object>"
      ]
     },
     "metadata": {},
     "output_type": "display_data"
    },
    {
     "data": {
      "text/markdown": [
       "-Tool-: Failed to parse XML, but got a response (may contain errors or be HTML): <?xml version=\"1.0\" encoding=\"UTF-8\"?>\n",
       "<nlmSearchResult>\n",
       "  <term>flu</term>\n",
       "  <file>viv_Vc6q5A</file>\n",
       "  <server>pvlb7srch16</server>\n",
       "  <count>67</count>\n",
       "  <retstart>0</retstart>\n",
       "  <retmax>10</retmax>\n",
       "  <list num=\"67\" start=\"0\" per=\"10\">\n",
       "    <document rank=\"2\" url=\"https://medlineplus.gov/flu.html\">\n",
       "      <content name=\"healthTopic\">\n",
       "        <health-topic meta-desc=\"The flu can cause serious illness in people over 65, babies, and people with certain chronic illnesses. The best way to prevent the ..."
      ],
      "text/plain": [
       "<IPython.core.display.Markdown object>"
      ]
     },
     "metadata": {},
     "output_type": "display_data"
    },
    {
     "data": {
      "text/markdown": [
       "[Agent]: The flu, or influenza, is a contagious respiratory illness caused by influenza viruses. It can cause mild to severe illness, and at times can lead to serious complications.\n",
       "\n",
       "Key points about the flu:\n",
       "*   **Symptoms:** Often come on suddenly and can include fever or feeling feverish/chills, cough, sore throat, runny or stuffy nose, muscle or body aches, headaches, and fatigue (tiredness). Some people may have vomiting and diarrhea, though this is more common in children than adults.\n",
       "*   **Transmission:** Flu viruses spread mainly by tiny droplets made when people with flu cough, sneeze or talk. These droplets can land in the mouths or noses of people who are nearby. Less often, a person might get flu by touching a surface or object that has flu virus on it and then touching their own mouth, nose, or possibly their eyes.\n",
       "*   **Complications:** Can include pneumonia, bronchitis, sinus infections, and ear infections. Flu can also worsen chronic health problems like asthma or heart failure. Certain groups are at higher risk for serious complications, including older adults (65+), young children, pregnant women, and people with certain chronic health conditions (like asthma, diabetes, or heart disease).\n",
       "*   **Prevention:** The best way to prevent the flu is by getting a flu vaccine each year. Good health habits like covering your cough, washing your hands often, and avoiding close contact with sick people can also help stop the spread of germs.\n",
       "*   **Treatment:** Most people with the flu have mild illness and do not need medical care or antiviral drugs. If you get sick with flu symptoms, in most cases, you should stay home and avoid contact with other people except to get medical care. If you have symptoms of flu and are in a high-risk group, or are very sick or worried about your illness, contact your healthcare provider. Antiviral drugs can be used to treat flu illness and can shorten the time you are sick and prevent serious complications.\n",
       "\n",
       "For more detailed information, you can visit MedlinePlus: [https://medlineplus.gov/flu.html](https://medlineplus.gov/flu.html)"
      ],
      "text/plain": [
       "<IPython.core.display.Markdown object>"
      ]
     },
     "metadata": {},
     "output_type": "display_data"
    }
   ],
   "source": [
    "await run_lc_react_agent(server_configs, \"Please explain flu in details\")"
   ]
  },
  {
   "cell_type": "markdown",
   "metadata": {},
   "source": [
    "#### Example 3: NIH MCP Server testing"
   ]
  },
  {
   "cell_type": "code",
   "execution_count": 25,
   "metadata": {},
   "outputs": [
    {
     "data": {
      "text/markdown": [
       "[User]: can you tell me icd-10 code for influenza A?"
      ],
      "text/plain": [
       "<IPython.core.display.Markdown object>"
      ]
     },
     "metadata": {},
     "output_type": "display_data"
    },
    {
     "data": {
      "text/markdown": [
       "[Agent]: "
      ],
      "text/plain": [
       "<IPython.core.display.Markdown object>"
      ]
     },
     "metadata": {},
     "output_type": "display_data"
    },
    {
     "data": {
      "text/markdown": [
       "-Tool-: Found 8 results. Top 5 matching 'influenza A':\n",
       "\n",
       "Code: J09.X1\n",
       "Name: Influenza due to identified novel influenza A virus with pneumonia\n",
       "---\n",
       "Code: J09.X3\n",
       "Name: Influenza due to identified novel influenza A virus with gastrointestinal manifestations\n",
       "---\n",
       "Code: J09.X9\n",
       "Name: Influenza due to identified novel influenza A virus with other manifestations\n",
       "---\n",
       "Code: J09.X2\n",
       "Name: Influenza due to identified novel influenza A virus with other respiratory manifestations\n",
       "---\n",
       "Code: A41.3\n",
       "Name: Sepsis due to Hemophilus influenzae"
      ],
      "text/plain": [
       "<IPython.core.display.Markdown object>"
      ]
     },
     "metadata": {},
     "output_type": "display_data"
    },
    {
     "data": {
      "text/markdown": [
       "[Agent]: Okay, I found several ICD-10 codes related to \"influenza A\". The top results are:\n",
       "\n",
       "*   **J09.X1**: Influenza due to identified novel influenza A virus with pneumonia\n",
       "*   **J09.X3**: Influenza due to identified novel influenza A virus with gastrointestinal manifestations\n",
       "*   **J09.X9**: Influenza due to identified novel influenza A virus with other manifestations\n",
       "*   **J09.X2**: Influenza due to identified novel influenza A virus with other respiratory manifestations\n",
       "\n",
       "There's also **A41.3** for Sepsis due to *Hemophilus influenzae*, but the J09 codes seem more specific to Influenza A virus infection.\n",
       "\n",
       "The specific code would depend on the patient's presentation and manifestations."
      ],
      "text/plain": [
       "<IPython.core.display.Markdown object>"
      ]
     },
     "metadata": {},
     "output_type": "display_data"
    }
   ],
   "source": [
    "await run_lc_react_agent(server_configs, \"can you tell me icd-10 code for influenza A?\")"
   ]
  },
  {
   "cell_type": "markdown",
   "metadata": {},
   "source": [
    "### Example 4: Cocktail MCP server testing"
   ]
  },
  {
   "cell_type": "code",
   "execution_count": 26,
   "metadata": {},
   "outputs": [
    {
     "data": {
      "text/markdown": [
       "[User]: Please get full detail of cocktail margarita"
      ],
      "text/plain": [
       "<IPython.core.display.Markdown object>"
      ]
     },
     "metadata": {},
     "output_type": "display_data"
    },
    {
     "data": {
      "text/markdown": [
       "[Agent]: Okay, I can help with that. First, I need to find the ID for \"Margarita\"."
      ],
      "text/plain": [
       "<IPython.core.display.Markdown object>"
      ]
     },
     "metadata": {},
     "output_type": "display_data"
    },
    {
     "data": {
      "text/markdown": [
       "-Tool-: Found cocktails:\n",
       "---\n",
       "ID: 11007\n",
       "Name: Margarita\n",
       "Category: Ordinary Drink\n",
       "Glass: Cocktail glass\n",
       "Alcoholic: Alcoholic\n",
       "Instructions: Rub the rim of the glass with the lime slice to make the salt stick to it. Take care to moisten only the outer rim and sprinkle the salt on it. The sa...\n",
       "Thumbnail: https://www.thecocktaildb.com/images/media/drink/5noda61589575158.jpg\n",
       "---\n",
       "ID: 11118\n",
       "Name: Blue Margarita\n",
       "Category: Ordinary Drink\n",
       "Glass: Cocktail glass\n",
       "Alcoholic: Alcoholic\n",
       "Instructions: Rub rim of cocktail glass with lime juice. Dip rim in coarse salt. Shake tequila, blue curacao, and lime juice with ice, strain into the salt-rimmed g...\n",
       "Thumbnail: https://www.thecocktaildb.com/images/media/drink/bry4qh1582751040.jpg\n",
       "---\n",
       "ID: 17216\n",
       "Name: Tommy's Margarita\n",
       "Category: Ordinary Drink\n",
       "Glass: Old-Fashioned glass\n",
       "Alcoholic: Alcoholic\n",
       "Instructions: Shake and strain into a chilled cocktail glass....\n",
       "Thumbnail: https://www.thecocktaildb.com/images/media/drink/loezxn1504373874.jpg\n",
       "---\n",
       "ID: 16158\n",
       "Name: Whitecap Margarita\n",
       "Category: Other / Unknown\n",
       "Glass: Margarita/Coupette glass\n",
       "Alcoholic: Alcoholic\n",
       "Instructions: Place all ingredients in a blender and blend until smooth. This makes one drink....\n",
       "Thumbnail: https://www.thecocktaildb.com/images/media/drink/srpxxp1441209622.jpg\n",
       "---\n",
       "ID: 12322\n",
       "Name: Strawberry Margarita\n",
       "Category: Ordinary Drink\n",
       "Glass: Cocktail glass\n",
       "Alcoholic: Alcoholic\n",
       "Instructions: Rub rim of cocktail glass with lemon juice and dip rim in salt. Shake schnapps, tequila, triple sec, lemon juice, and strawberries with ice, strain in...\n",
       "Thumbnail: https://www.thecocktaildb.com/images/media/drink/tqyrpw1439905311.jpg\n",
       "---\n",
       "ID: 178332\n",
       "Name: Smashed Watermelon Margarita\n",
       "Category: Cocktail\n",
       "Glass: Collins glass\n",
       "Alcoholic: Alcoholic\n",
       "Instructions: In a mason jar muddle the watermelon and 5 mint leaves together into a puree and strain. Next add the grapefruit juice, juice of half a lime and the t...\n",
       "Thumbnail: https://www.thecocktaildb.com/images/media/drink/dztcv51598717861.jpg"
      ],
      "text/plain": [
       "<IPython.core.display.Markdown object>"
      ]
     },
     "metadata": {},
     "output_type": "display_data"
    },
    {
     "data": {
      "text/markdown": [
       "[Agent]: Okay, I found the classic Margarita with ID `11007`. Now I'll get the full details for you."
      ],
      "text/plain": [
       "<IPython.core.display.Markdown object>"
      ]
     },
     "metadata": {},
     "output_type": "display_data"
    },
    {
     "data": {
      "text/markdown": [
       "-Tool-: ID: 11007\n",
       "Name: Margarita\n",
       "Alternate Name: None\n",
       "Tags: IBA,ContemporaryClassic\n",
       "Category: Ordinary Drink\n",
       "IBA Category: Contemporary Classics\n",
       "Alcoholic: Alcoholic\n",
       "Glass: Cocktail glass\n",
       "Instructions: Rub the rim of the glass with the lime slice to make the salt stick to it. Take care to moisten only the outer rim and sprinkle the salt on it. The salt should present to the lips of the imbiber and never mix into the cocktail. Shake the other ingredients with ice, then carefully pour into the glass.\n",
       "\n",
       "Ingredients:\n",
       "- 1 1/2 oz Tequila\n",
       "- 1/2 oz Triple sec\n",
       "- 1 oz Lime juice\n",
       "-  Salt\n",
       "\n",
       "Image URL: https://www.thecocktaildb.com/images/media/drink/5noda61589575158.jpg\n",
       "Last Modified: 2015-08-18 14:42:59"
      ],
      "text/plain": [
       "<IPython.core.display.Markdown object>"
      ]
     },
     "metadata": {},
     "output_type": "display_data"
    },
    {
     "data": {
      "text/markdown": [
       "[Agent]: Here are the full details for the Margarita cocktail:\n",
       "\n",
       "**ID:** 11007\n",
       "**Name:** Margarita\n",
       "**Alternate Name:** None\n",
       "**Tags:** IBA, ContemporaryClassic\n",
       "**Category:** Ordinary Drink\n",
       "**IBA Category:** Contemporary Classics\n",
       "**Alcoholic:** Alcoholic\n",
       "**Glass:** Cocktail glass\n",
       "**Instructions:** Rub the rim of the glass with the lime slice to make the salt stick to it. Take care to moisten only the outer rim and sprinkle the salt on it. The salt should present to the lips of the imbiber and never mix into the cocktail. Shake the other ingredients with ice, then carefully pour into the glass.\n",
       "\n",
       "**Ingredients:**\n",
       "*   1 1/2 oz Tequila\n",
       "*   1/2 oz Triple sec\n",
       "*   1 oz Lime juice\n",
       "*   Salt\n",
       "\n",
       "**Image URL:** [https://www.thecocktaildb.com/images/media/drink/5noda61589575158.jpg](https://www.thecocktaildb.com/images/media/drink/5noda61589575158.jpg)\n",
       "**Last Modified:** 2015-08-18 14:42:59"
      ],
      "text/plain": [
       "<IPython.core.display.Markdown object>"
      ]
     },
     "metadata": {},
     "output_type": "display_data"
    }
   ],
   "source": [
    "await run_lc_react_agent(server_configs, \"Please get full detail of cocktail margarita\")"
   ]
  },
  {
   "cell_type": "markdown",
   "metadata": {},
   "source": [
    "#### Agent streaming"
   ]
  },
  {
   "cell_type": "code",
   "execution_count": 21,
   "metadata": {},
   "outputs": [],
   "source": [
    "async def run_streaming_agent():\n",
    "    async with MultiServerMCPClient(\n",
    "        {\n",
    "            \"nih\": {\n",
    "                \"command\": \"python\",\n",
    "                \"args\": [\"./server/nih.py\"],\n",
    "                \"transport\": \"stdio\",\n",
    "            },\n",
    "        }\n",
    "    ) as client:\n",
    "        agent = create_react_agent(llm, client.get_tools())\n",
    "        # Initialize conversation history using simple tuples\n",
    "        inputs = {\"messages\": []}\n",
    "\n",
    "        print(\"Agent is ready. Type 'exit' to quit.\")\n",
    "        while True:\n",
    "            user_input = input(\"You: \")\n",
    "            if user_input.lower() == \"exit\":\n",
    "                print(\"Exiting chat.\")\n",
    "                break\n",
    "\n",
    "            # Append user message to history\n",
    "            inputs[\"messages\"].append((\"user\", user_input))\n",
    "\n",
    "            # call our graph with streaming to see the steps\n",
    "            async for state in agent.astream(inputs, stream_mode=\"values\"):\n",
    "                last_message = state[\"messages\"][-1]\n",
    "                print(last_message)\n",
    "                last_message.pretty_print()\n",
    "\n",
    "            # update the inputs with the agent's response\n",
    "            inputs[\"messages\"] == state[\"messages\"]"
   ]
  },
  {
   "cell_type": "code",
   "execution_count": 45,
   "metadata": {},
   "outputs": [
    {
     "name": "stdout",
     "output_type": "stream",
     "text": [
      "Agent is ready. Type 'exit' to quit.\n",
      "content=\"what's icd-10 code for flu A?\" additional_kwargs={} response_metadata={} id='49034228-78fb-41ed-af5a-9f3de1bc630b'\n",
      "================================\u001b[1m Human Message \u001b[0m=================================\n",
      "\n",
      "what's icd-10 code for flu A?\n",
      "content='' additional_kwargs={'function_call': {'name': 'get_icd_10_code', 'arguments': '{\"query\": \"flu A\"}'}} response_metadata={'is_blocked': False, 'safety_ratings': [], 'usage_metadata': {'prompt_token_count': 73, 'candidates_token_count': 12, 'total_token_count': 236, 'prompt_tokens_details': [{'modality': 1, 'token_count': 73}], 'candidates_tokens_details': [{'modality': 1, 'token_count': 12}], 'cached_content_token_count': 0, 'cache_tokens_details': []}, 'finish_reason': 'STOP', 'avg_logprobs': -0.6214426755905151, 'model_name': 'gemini-2.5-pro-exp-03-25'} id='run-aec0701c-13f1-4c98-9fc1-3b1809d87c91-0' tool_calls=[{'name': 'get_icd_10_code', 'args': {'query': 'flu A'}, 'id': '7d2f26c9-805f-49d5-886b-e9db51b92f4c', 'type': 'tool_call'}] usage_metadata={'input_tokens': 73, 'output_tokens': 12, 'total_tokens': 236}\n",
      "==================================\u001b[1m Ai Message \u001b[0m==================================\n",
      "Tool Calls:\n",
      "  get_icd_10_code (7d2f26c9-805f-49d5-886b-e9db51b92f4c)\n",
      " Call ID: 7d2f26c9-805f-49d5-886b-e9db51b92f4c\n",
      "  Args:\n",
      "    query: flu A\n",
      "content='Found 108 results. Showing top 5:\\nCode: E87.8, Name: Other disorders of electrolyte and fluid balance, not elsewhere classified\\nCode: F98.5, Name: Adult onset fluency disorder\\nCode: I48.3, Name: Typical atrial flutter\\nCode: I48.4, Name: Atypical atrial flutter\\nCode: I48.92, Name: Unspecified atrial flutter' name='get_icd_10_code' id='86b5f62c-4582-4934-a5e7-347b4a8afadf' tool_call_id='7d2f26c9-805f-49d5-886b-e9db51b92f4c'\n",
      "=================================\u001b[1m Tool Message \u001b[0m=================================\n",
      "Name: get_icd_10_code\n",
      "\n",
      "Found 108 results. Showing top 5:\n",
      "Code: E87.8, Name: Other disorders of electrolyte and fluid balance, not elsewhere classified\n",
      "Code: F98.5, Name: Adult onset fluency disorder\n",
      "Code: I48.3, Name: Typical atrial flutter\n",
      "Code: I48.4, Name: Atypical atrial flutter\n",
      "Code: I48.92, Name: Unspecified atrial flutter\n",
      "content='The search for \"flu A\" returned the following top results:\\n\\n*   **E87.8:** Other disorders of electrolyte and fluid balance, not elsewhere classified\\n*   **F98.5:** Adult onset fluency disorder\\n*   **I48.3:** Typical atrial flutter\\n*   **I48.4:** Atypical atrial flutter\\n*   **I48.92:** Unspecified atrial flutter\\n\\nThese results don\\'t seem directly related to Influenza A virus infection. Often, more specific terms yield better results. Would you like me to try searching for \"Influenza A\" instead?' additional_kwargs={} response_metadata={'is_blocked': False, 'safety_ratings': [], 'usage_metadata': {'prompt_token_count': 189, 'candidates_token_count': 129, 'total_token_count': 889, 'prompt_tokens_details': [{'modality': 1, 'token_count': 189}], 'candidates_tokens_details': [{'modality': 1, 'token_count': 129}], 'cached_content_token_count': 0, 'cache_tokens_details': []}, 'finish_reason': 'STOP', 'avg_logprobs': -0.6415511138679445, 'model_name': 'gemini-2.5-pro-exp-03-25'} id='run-9ca78514-755b-4f27-ad87-b0f295fa0b9f-0' usage_metadata={'input_tokens': 189, 'output_tokens': 129, 'total_tokens': 889}\n",
      "==================================\u001b[1m Ai Message \u001b[0m==================================\n",
      "\n",
      "The search for \"flu A\" returned the following top results:\n",
      "\n",
      "*   **E87.8:** Other disorders of electrolyte and fluid balance, not elsewhere classified\n",
      "*   **F98.5:** Adult onset fluency disorder\n",
      "*   **I48.3:** Typical atrial flutter\n",
      "*   **I48.4:** Atypical atrial flutter\n",
      "*   **I48.92:** Unspecified atrial flutter\n",
      "\n",
      "These results don't seem directly related to Influenza A virus infection. Often, more specific terms yield better results. Would you like me to try searching for \"Influenza A\" instead?\n",
      "Exiting chat.\n"
     ]
    }
   ],
   "source": [
    "await run_streaming_agent()"
   ]
  },
  {
   "cell_type": "markdown",
   "metadata": {},
   "source": [
    "### Option 2: Build your own agent to test MCP servers"
   ]
  },
  {
   "cell_type": "markdown",
   "metadata": {},
   "source": [
    "\n",
    "##### Gemini Agent\n",
    "\n",
    "Within an MCP client session, this agent loop runs a multi-turn conversation loop with a Gemini model, handling tool calls via MCP server.\n",
    "\n",
    "This function orchestrates the interaction between a user prompt, a Gemini model capable of function calling, and a session object that provides and executes tools. It handles the cycle of:\n",
    "-  Gemini gets tool information from MCP client session\n",
    "-  Sending the user prompt (and conversation history) to the model.\n",
    "-  If the model requests tool calls, Gemini makes initial function calls to get structured data as per schema, and \n",
    "-  Sending the tool execution results back to the model.\n",
    "-  Repeating until the model provides a text response or the maximum number of tool execution turns is reached.\n",
    "-  Gemini generates final response based on tool responses and original query.\n",
    "  \n",
    "MCP integration with Gemini\n",
    "\n",
    "<img src=\"https://storage.googleapis.com/github-repo/generative-ai/gemini/mcp/mcp_tool_call.png\" alt=\"MCP with Gemini\" height=\"700\">"
   ]
  },
  {
   "cell_type": "code",
   "execution_count": 8,
   "metadata": {},
   "outputs": [],
   "source": [
    "# --- Configuration ---\n",
    "# Consider using a more recent/recommended model if available and suitable\n",
    "\n",
    "DEFAULT_MAX_TOOL_TURNS = 5  # Maximum consecutive turns for tool execution\n",
    "DEFAULT_INITIAL_TEMPERATURE = (\n",
    "    0.0  # Temperature for the first LLM call (more deterministic)\n",
    ")\n",
    "DEFAULT_TOOL_CALL_TEMPERATURE = (\n",
    "    1.0  # Temperature for LLM calls after tool use (potentially more creative)\n",
    ")\n",
    "\n",
    "# Make tool calls via MCP Server\n",
    "\n",
    "\n",
    "async def _execute_tool_calls(\n",
    "    function_calls: List[types.FunctionCall], session: ClientSession\n",
    ") -> List[types.Part]:\n",
    "    \"\"\"\n",
    "    Executes a list of function calls requested by the Gemini model via the session.\n",
    "\n",
    "    Args:\n",
    "        function_calls: A list of FunctionCall objects from the model's response.\n",
    "        session: The session object capable of executing tools via `call_tool`.\n",
    "\n",
    "    Returns:\n",
    "        A list of Part objects, each containing a FunctionResponse corresponding\n",
    "        to the execution result of a requested tool call.\n",
    "    \"\"\"\n",
    "    tool_response_parts: List[types.Part] = []\n",
    "    print(f\"--- Executing {len(function_calls)} tool call(s) ---\")\n",
    "\n",
    "    for func_call in function_calls:\n",
    "        tool_name = func_call.name\n",
    "        # Ensure args is a dictionary, even if missing or not a dict type\n",
    "        args = func_call.args if isinstance(func_call.args, dict) else {}\n",
    "        print(f\"  Attempting to call session tool: '{tool_name}' with args: {args}\")\n",
    "\n",
    "        tool_result_payload: Dict[str, Any]\n",
    "        try:\n",
    "            # Execute the tool using the provided session object\n",
    "            # Assumes session.call_tool returns an object with attributes\n",
    "            # like `isError` (bool) and `content` (list of Part-like objects).\n",
    "            tool_result = await session.call_tool(tool_name, args)\n",
    "            print(f\"  Session tool '{tool_name}' execution finished.\")\n",
    "\n",
    "            # Extract result or error message from the tool result object\n",
    "            result_text = \"\"\n",
    "            # Check structure carefully based on actual `session.call_tool` return type\n",
    "            if (\n",
    "                hasattr(tool_result, \"content\")\n",
    "                and tool_result.content\n",
    "                and hasattr(tool_result.content[0], \"text\")\n",
    "            ):\n",
    "                result_text = tool_result.content[0].text or \"\"\n",
    "\n",
    "            if hasattr(tool_result, \"isError\") and tool_result.isError:\n",
    "                error_message = (\n",
    "                    result_text\n",
    "                    or f\"Tool '{tool_name}' failed without specific error message.\"\n",
    "                )\n",
    "                print(f\"  Tool '{tool_name}' reported an error: {error_message}\")\n",
    "                tool_result_payload = {\"error\": error_message}\n",
    "            else:\n",
    "                print(\n",
    "                    f\"  Tool '{tool_name}' succeeded. Result snippet: {result_text[:150]}...\"\n",
    "                )  # Log snippet\n",
    "                tool_result_payload = {\"result\": result_text}\n",
    "\n",
    "        except Exception as e:\n",
    "            # Catch exceptions during the tool call itself\n",
    "            error_message = f\"Tool execution framework failed: {type(e).__name__}: {e}\"\n",
    "            print(f\"  Error executing tool '{tool_name}': {error_message}\")\n",
    "            tool_result_payload = {\"error\": error_message}\n",
    "\n",
    "        # Create a FunctionResponse Part to send back to the model\n",
    "        tool_response_parts.append(\n",
    "            types.Part.from_function_response(\n",
    "                name=tool_name, response=tool_result_payload\n",
    "            )\n",
    "        )\n",
    "    print(f\"--- Finished executing tool call(s) ---\")\n",
    "    return tool_response_parts\n",
    "\n",
    "\n",
    "async def run_agent_loop(\n",
    "    prompt: str,\n",
    "    client: genai.Client,\n",
    "    session: ClientSession,\n",
    "    model_id: str = MODEL_ID,\n",
    "    max_tool_turns: int = DEFAULT_MAX_TOOL_TURNS,\n",
    "    initial_temperature: float = DEFAULT_INITIAL_TEMPERATURE,\n",
    "    tool_call_temperature: float = DEFAULT_TOOL_CALL_TEMPERATURE,\n",
    ") -> types.GenerateContentResponse:\n",
    "    \"\"\"\n",
    "    Runs a multi-turn conversation loop with a Gemini model, handling tool calls.\n",
    "\n",
    "    This function orchestrates the interaction between a user prompt, a Gemini\n",
    "    model capable of function calling, and a session object that provides\n",
    "    and executes tools. It handles the cycle of:\n",
    "    1. Sending the user prompt (and conversation history) to the model.\n",
    "    2. If the model requests tool calls, executing them via the `session`.\n",
    "    3. Sending the tool execution results back to the model.\n",
    "    4. Repeating until the model provides a text response or the maximum\n",
    "       number of tool execution turns is reached.\n",
    "\n",
    "    Args:\n",
    "        prompt: The initial user prompt to start the conversation.\n",
    "        client: An initialized Gemini GenerativeModel client object\n",
    "\n",
    "        session: An active session object responsible for listing available tools\n",
    "                 via `list_tools()` and executing them via `call_tool(tool_name, args)`.\n",
    "                 It's also expected to have an `initialize()` method.\n",
    "        model_id: The identifier of the Gemini model to use (e.g., \"gemini-1.5-pro-latest\").\n",
    "        max_tool_turns: The maximum number of consecutive turns dedicated to tool calls\n",
    "                        before forcing a final response or exiting.\n",
    "        initial_temperature: The temperature setting for the first model call.\n",
    "        tool_call_temperature: The temperature setting for subsequent model calls\n",
    "                               that occur after tool execution.\n",
    "\n",
    "    Returns:\n",
    "        The final Response from the Gemini model after the\n",
    "        conversation loop concludes (either with a text response or after\n",
    "        reaching the max tool turns).\n",
    "\n",
    "    Raises:\n",
    "        ValueError: If the session object does not provide any tools.\n",
    "        Exception: Can potentially raise exceptions from the underlying API calls\n",
    "                   or session tool execution if not caught internally by `_execute_tool_calls`.\n",
    "    \"\"\"\n",
    "    print(\n",
    "        f\"Starting agent loop with model '{model_id}' and prompt: '{prompt[:100]}...'\"\n",
    "    )\n",
    "\n",
    "    # Initialize conversation history with the user's prompt\n",
    "    contents: List[types.Content] = [\n",
    "        types.Content(role=\"user\", parts=[types.Part(text=prompt)])\n",
    "    ]\n",
    "\n",
    "    # Ensure the session is ready (if needed)\n",
    "    if hasattr(session, \"initialize\") and callable(session.initialize):\n",
    "        print(\"Initializing session...\")\n",
    "        await session.initialize()\n",
    "    else:\n",
    "        print(\"Session object does not have an initialize() method, proceeding anyway.\")\n",
    "\n",
    "    # --- 1. Discover Tools from Session ---\n",
    "    print(\"Listing tools from session...\")\n",
    "    # Assumes session.list_tools() returns an object with a 'tools' attribute (list)\n",
    "    # Each item in the list should have 'name', 'description', and 'inputSchema' attributes.\n",
    "    session_tool_list = await session.list_tools()\n",
    "\n",
    "    if not session_tool_list or not session_tool_list.tools:\n",
    "        raise ValueError(\"No tools provided by the session. Agent loop cannot proceed.\")\n",
    "\n",
    "    # Convert session tools to the format required by the Gemini API\n",
    "    gemini_tool_config = types.Tool(\n",
    "        function_declarations=[\n",
    "            types.FunctionDeclaration(\n",
    "                name=tool.name,\n",
    "                description=tool.description,\n",
    "                parameters=tool.inputSchema,  # Assumes inputSchema is compatible\n",
    "            )\n",
    "            for tool in session_tool_list.tools\n",
    "        ]\n",
    "    )\n",
    "    print(\n",
    "        f\"Configured Gemini with {len(gemini_tool_config.function_declarations)} tool(s).\"\n",
    "    )\n",
    "\n",
    "    # --- 2. Initial Model Call ---\n",
    "    print(\"Making initial call to Gemini model...\")\n",
    "    current_temperature = initial_temperature\n",
    "    response = await client.aio.models.generate_content(\n",
    "        model=MODEL_ID,\n",
    "        contents=contents,  # Send updated history\n",
    "        config=types.GenerateContentConfig(\n",
    "            temperature=1.0,\n",
    "            tools=[gemini_tool_config],\n",
    "        ),  # Keep sending same config\n",
    "    )\n",
    "    print(\"Initial response received.\")\n",
    "\n",
    "    # Append the model's first response (potentially including function calls) to history\n",
    "    # Need to handle potential lack of candidates or content\n",
    "    if not response.candidates:\n",
    "        print(\"Warning: Initial model response has no candidates.\")\n",
    "        # Decide how to handle this - raise error or return the empty response?\n",
    "        return response\n",
    "    contents.append(response.candidates[0].content)\n",
    "\n",
    "    # --- 3. Tool Calling Loop ---\n",
    "    turn_count = 0\n",
    "    # Check specifically for FunctionCall objects in the latest response part\n",
    "    latest_content = response.candidates[0].content\n",
    "    has_function_calls = any(part.function_call for part in latest_content.parts)\n",
    "\n",
    "    while has_function_calls and turn_count < max_tool_turns:\n",
    "        turn_count += 1\n",
    "        print(f\"\\n--- Tool Turn {turn_count}/{max_tool_turns} ---\")\n",
    "\n",
    "        # --- 3.1 Execute Pending Function Calls ---\n",
    "        function_calls_to_execute = [\n",
    "            part.function_call for part in latest_content.parts if part.function_call\n",
    "        ]\n",
    "        tool_response_parts = await _execute_tool_calls(\n",
    "            function_calls_to_execute, session\n",
    "        )\n",
    "\n",
    "        # --- 3.2 Add Tool Responses to History ---\n",
    "        # Send back the results for *all* function calls from the previous turn\n",
    "        contents.append(\n",
    "            types.Content(role=\"function\", parts=tool_response_parts)\n",
    "        )  # Use \"function\" role\n",
    "        print(f\"Added {len(tool_response_parts)} tool response part(s) to history.\")\n",
    "\n",
    "        # --- 3.3 Make Subsequent Model Call with Tool Responses ---\n",
    "        print(\"Making subsequent API call to Gemini with tool responses...\")\n",
    "        current_temperature = tool_call_temperature  # Use different temp for follow-up\n",
    "        response = await client.aio.models.generate_content(\n",
    "            model=MODEL_ID,\n",
    "            contents=contents,  # Send updated history\n",
    "            config=types.GenerateContentConfig(\n",
    "                temperature=1.0,\n",
    "                tools=[gemini_tool_config],\n",
    "            ),\n",
    "        )\n",
    "        print(\"Subsequent response received.\")\n",
    "\n",
    "        # --- 3.4 Append latest model response and check for more calls ---\n",
    "        if not response.candidates:\n",
    "            print(\"Warning: Subsequent model response has no candidates.\")\n",
    "            break  # Exit loop if no candidates are returned\n",
    "        latest_content = response.candidates[0].content\n",
    "        contents.append(latest_content)\n",
    "        has_function_calls = any(part.function_call for part in latest_content.parts)\n",
    "        if not has_function_calls:\n",
    "            print(\n",
    "                \"Model response contains text, no further tool calls requested this turn.\"\n",
    "            )\n",
    "\n",
    "    # --- 4. Loop Termination Check ---\n",
    "    if turn_count >= max_tool_turns and has_function_calls:\n",
    "        print(\n",
    "            f\"Maximum tool turns ({max_tool_turns}) reached. Exiting loop even though function calls might be pending.\"\n",
    "        )\n",
    "    elif not has_function_calls:\n",
    "        print(\"Tool calling loop finished naturally (model provided text response).\")\n",
    "\n",
    "    # --- 5. Return Final Response ---\n",
    "    print(\"Agent loop finished. Returning final response.\")\n",
    "    return response"
   ]
  },
  {
   "cell_type": "markdown",
   "metadata": {},
   "source": [
    "#### Set up MCP client"
   ]
  },
  {
   "cell_type": "code",
   "execution_count": 9,
   "metadata": {},
   "outputs": [],
   "source": [
    "async def run_simple_agent(server_params, query):\n",
    "    async with stdio_client(server_params) as (read, write):\n",
    "        async with ClientSession(\n",
    "            read,\n",
    "            write,\n",
    "        ) as session:\n",
    "            # Test prompt\n",
    "            prompt = query\n",
    "            print(f\"Running agent loop with prompt: {prompt}\")\n",
    "            # Run agent loop\n",
    "            res = await run_agent_loop(prompt, client, session)\n",
    "            return res"
   ]
  },
  {
   "cell_type": "code",
   "execution_count": 10,
   "metadata": {},
   "outputs": [],
   "source": [
    "bq_server_params = StdioServerParameters(\n",
    "    command=\"python\",\n",
    "    # Make sure to update to the full absolute path to your server file\n",
    "    args=[\"./server/bq.py\"],\n",
    ")"
   ]
  },
  {
   "cell_type": "code",
   "execution_count": 11,
   "metadata": {},
   "outputs": [],
   "source": [
    "med_server_params = StdioServerParameters(\n",
    "    command=\"python\",\n",
    "    # Make sure to update to the full absolute path to your server file\n",
    "    args=[\"./server/med.py\"],\n",
    ")"
   ]
  },
  {
   "cell_type": "code",
   "execution_count": 12,
   "metadata": {},
   "outputs": [],
   "source": [
    "nih_server_params = StdioServerParameters(\n",
    "    command=\"python\",\n",
    "    # Make sure to update to the full absolute path to your server file\n",
    "    args=[\"./server/nih.py\"],\n",
    ")"
   ]
  },
  {
   "cell_type": "code",
   "execution_count": 13,
   "metadata": {},
   "outputs": [],
   "source": [
    "ct_server_params = StdioServerParameters(\n",
    "    command=\"python\",\n",
    "    # Make sure to update to the full absolute path to your server file\n",
    "    args=[\"./server/cocktail.py\"],\n",
    ")"
   ]
  },
  {
   "cell_type": "code",
   "execution_count": 14,
   "metadata": {},
   "outputs": [
    {
     "name": "stdout",
     "output_type": "stream",
     "text": [
      "Running agent loop with prompt: Please list my BigQuery tables, project id is 'dw-genai-dev', location is 'us'\n",
      "Starting agent loop with model 'gemini-2.5-pro-exp-03-25' and prompt: 'Please list my BigQuery tables, project id is 'dw-genai-dev', location is 'us'...'\n",
      "Initializing session...\n",
      "Listing tools from session...\n",
      "Configured Gemini with 2 tool(s).\n",
      "Making initial call to Gemini model...\n",
      "Initial response received.\n",
      "\n",
      "--- Tool Turn 1/5 ---\n",
      "--- Executing 1 tool call(s) ---\n",
      "  Attempting to call session tool: 'list_tables' with args: {'location': 'us', 'project_id': 'dw-genai-dev'}\n",
      "  Session tool 'list_tables' execution finished.\n",
      "  Tool 'list_tables' succeeded. Result snippet: demo_dataset1.item_table\n",
      "demo_dataset1.user_table\n",
      "demo_dataset2.item_table\n",
      "demo_dataset2.user_table...\n",
      "--- Finished executing tool call(s) ---\n",
      "Added 1 tool response part(s) to history.\n",
      "Making subsequent API call to Gemini with tool responses...\n",
      "Subsequent response received.\n",
      "Model response contains text, no further tool calls requested this turn.\n",
      "Tool calling loop finished naturally (model provided text response).\n",
      "Agent loop finished. Returning final response.\n",
      "Okay, here are the BigQuery tables in the project 'dw-genai-dev' (location 'us'):\n",
      "\n",
      "*   demo_dataset1.item_table\n",
      "*   demo_dataset1.user_table\n",
      "*   demo_dataset2.item_table\n",
      "*   demo_dataset2.user_table\n"
     ]
    }
   ],
   "source": [
    "bq_query = (\n",
    "    \"Please list my BigQuery tables, project id is 'dw-genai-dev', location is 'us'\"\n",
    ")\n",
    "bq_res = await run_simple_agent(bq_server_params, bq_query)\n",
    "print(bq_res.text)"
   ]
  },
  {
   "cell_type": "code",
   "execution_count": 53,
   "metadata": {},
   "outputs": [
    {
     "name": "stdout",
     "output_type": "stream",
     "text": [
      "Running agent loop with prompt: Please explain flu in detail.\n",
      "Starting agent loop with model 'gemini-2.5-pro-exp-03-25' and prompt: 'Please explain flu in detail....'\n",
      "Initializing session...\n",
      "Listing tools from session...\n",
      "Configured Gemini with 1 tool(s).\n",
      "Making initial call to Gemini model...\n",
      "Initial response received.\n",
      "\n",
      "--- Tool Turn 1/5 ---\n",
      "--- Executing 1 tool call(s) ---\n",
      "  Attempting to call session tool: 'get_medical_term' with args: {'term': 'flu'}\n",
      "  Session tool 'get_medical_term' execution finished.\n",
      "  Tool 'get_medical_term' succeeded. Result snippet: Term: Flu\n",
      "\n",
      "Explanation: What is the flu? The flu , also called influenza , is a respiratory infection caused by viruses. Each year, millions of Americ...\n",
      "--- Finished executing tool call(s) ---\n",
      "Added 1 tool response part(s) to history.\n",
      "Making subsequent API call to Gemini with tool responses...\n",
      "Subsequent response received.\n",
      "Model response contains text, no further tool calls requested this turn.\n",
      "Tool calling loop finished naturally (model provided text response).\n",
      "Agent loop finished. Returning final response.\n",
      "Flu, also known as influenza, is a respiratory infection caused by viruses. Millions of Americans get sick with the flu each year.\n"
     ]
    }
   ],
   "source": [
    "med_query = \"Please explain flu in detail.\"\n",
    "med_res = await run_simple_agent(med_server_params, med_query)\n",
    "print(med_res.text)"
   ]
  },
  {
   "cell_type": "code",
   "execution_count": 54,
   "metadata": {},
   "outputs": [
    {
     "name": "stdout",
     "output_type": "stream",
     "text": [
      "Running agent loop with prompt: Please tell me icd-10 code for pneumonia\n",
      "Starting agent loop with model 'gemini-2.5-pro-exp-03-25' and prompt: 'Please tell me icd-10 code for pneumonia...'\n",
      "Initializing session...\n",
      "Listing tools from session...\n",
      "Configured Gemini with 1 tool(s).\n",
      "Making initial call to Gemini model...\n",
      "Initial response received.\n",
      "\n",
      "--- Tool Turn 1/5 ---\n",
      "--- Executing 1 tool call(s) ---\n",
      "  Attempting to call session tool: 'get_icd_10_code' with args: {'query': 'pneumonia'}\n",
      "  Session tool 'get_icd_10_code' execution finished.\n",
      "  Tool 'get_icd_10_code' succeeded. Result snippet: Found 77 results. Showing top 5:\n",
      "Code: A01.03, Name: Typhoid pneumonia\n",
      "Code: A02.22, Name: Salmonella pneumonia\n",
      "Code: A54.84, Name: Gonococcal pneumon...\n",
      "--- Finished executing tool call(s) ---\n",
      "Added 1 tool response part(s) to history.\n",
      "Making subsequent API call to Gemini with tool responses...\n",
      "Subsequent response received.\n",
      "Model response contains text, no further tool calls requested this turn.\n",
      "Tool calling loop finished naturally (model provided text response).\n",
      "Agent loop finished. Returning final response.\n",
      "The search for \"pneumonia\" returned several ICD-10 codes, as the specific code depends on the type or cause of the pneumonia. Here are the top 5 results found:\n",
      "\n",
      "*   **A01.03:** Typhoid pneumonia\n",
      "*   **A02.22:** Salmonella pneumonia\n",
      "*   **A54.84:** Gonococcal pneumonia\n",
      "*   **B01.2:** Varicella pneumonia\n",
      "*   **B06.81:** Rubella pneumonia\n",
      "\n",
      "Other common codes for pneumonia fall under the J category in ICD-10 (Diseases of the respiratory system), such as:\n",
      "\n",
      "*   **J18.9:** Pneumonia, unspecified organism\n",
      "*   **J13:** Pneumonia due to Streptococcus pneumoniae\n",
      "*   **J15:** Bacterial pneumonia, not elsewhere classified\n",
      "*   **J12:** Viral pneumonia, not elsewhere classified\n",
      "\n",
      "To get the most accurate code, you would need to specify the type of pneumonia (e.g., bacterial, viral, fungal, the specific organism if known, or if it's aspiration pneumonia, etc.).\n"
     ]
    }
   ],
   "source": [
    "nih_query = \"Please tell me icd-10 code for pneumonia\"\n",
    "nih_res = await run_simple_agent(nih_server_params, nih_query)\n",
    "print(nih_res.text)"
   ]
  },
  {
   "cell_type": "code",
   "execution_count": 23,
   "metadata": {},
   "outputs": [
    {
     "name": "stdout",
     "output_type": "stream",
     "text": [
      "Running agent loop with prompt: Please tell me the details of cocktail margarita\n",
      "Starting agent loop with model 'gemini-2.5-pro-exp-03-25' and prompt: 'Please tell me the details of cocktail margarita...'\n",
      "Initializing session...\n",
      "Listing tools from session...\n",
      "Configured Gemini with 5 tool(s).\n",
      "Making initial call to Gemini model...\n",
      "Initial response received.\n",
      "\n",
      "--- Tool Turn 1/5 ---\n",
      "--- Executing 1 tool call(s) ---\n",
      "  Attempting to call session tool: 'search_cocktail_by_name' with args: {'name': 'margarita'}\n",
      "  Session tool 'search_cocktail_by_name' execution finished.\n",
      "  Tool 'search_cocktail_by_name' succeeded. Result snippet: Found cocktails:\n",
      "---\n",
      "ID: 11007\n",
      "Name: Margarita\n",
      "Category: Ordinary Drink\n",
      "Glass: Cocktail glass\n",
      "Alcoholic: Alcoholic\n",
      "Instructions: Rub the rim of the gl...\n",
      "--- Finished executing tool call(s) ---\n",
      "Added 1 tool response part(s) to history.\n",
      "Making subsequent API call to Gemini with tool responses...\n",
      "Subsequent response received.\n",
      "Model response contains text, no further tool calls requested this turn.\n",
      "Tool calling loop finished naturally (model provided text response).\n",
      "Agent loop finished. Returning final response.\n",
      "Okay, I found several cocktails with \"Margarita\" in the name:\n",
      "\n",
      "1.  **Margarita** (ID: 11007)\n",
      "    *   Category: Ordinary Drink\n",
      "    *   Glass: Cocktail glass\n",
      "    *   Alcoholic: Yes\n",
      "    *   Instructions: Rub the rim of the glass with the lime slice to make the salt stick to it. Take care to moisten only the outer rim and sprinkle the salt on it...\n",
      "    *   Thumbnail: [https://www.thecocktaildb.com/images/media/drink/5noda61589575158.jpg](https://www.thecocktaildb.com/images/media/drink/5noda61589575158.jpg)\n",
      "\n",
      "2.  **Blue Margarita** (ID: 11118)\n",
      "3.  **Tommy's Margarita** (ID: 17216)\n",
      "4.  **Whitecap Margarita** (ID: 16158)\n",
      "5.  **Strawberry Margarita** (ID: 12322)\n",
      "6.  **Smashed Watermelon Margarita** (ID: 178332)\n",
      "\n",
      "Did you mean the classic Margarita (the first one), or were you interested in one of the variations? I can provide the full details, including ingredients and measurements, for any of them if you give me the ID or the full name.\n"
     ]
    }
   ],
   "source": [
    "ct_query = \"Please tell me the details of cocktail margarita\"\n",
    "bq_res = await run_simple_agent(ct_server_params, ct_query)\n",
    "print(bq_res.text)"
   ]
  },
  {
   "cell_type": "markdown",
   "metadata": {},
   "source": [
    "### Option 3 Testing with Google ADK\n",
    "Note: It works in  Jupyter Notebook only"
   ]
  },
  {
   "cell_type": "code",
   "execution_count": 15,
   "metadata": {},
   "outputs": [],
   "source": [
    "from google.adk.tools.mcp_tool.mcp_toolset import (\n",
    "    MCPToolset,\n",
    "    SseServerParams,\n",
    "    StdioServerParameters,\n",
    ")"
   ]
  },
  {
   "cell_type": "code",
   "execution_count": 16,
   "metadata": {},
   "outputs": [],
   "source": [
    "import os\n",
    "\n",
    "os.environ[\"GOOGLE_GENAI_USE_VERTEXAI\"] = \"1\"\n",
    "os.environ[\"GOOGLE_CLOUD_PROJECT\"] = PROJECT_ID\n",
    "os.environ[\"GOOGLE_CLOUD_LOCATION\"] = LOCATION"
   ]
  },
  {
   "cell_type": "code",
   "execution_count": 17,
   "metadata": {},
   "outputs": [],
   "source": [
    "from google.adk.tools.mcp_tool.mcp_toolset import (\n",
    "    MCPToolset,\n",
    "    SseServerParams,\n",
    "    StdioServerParameters,\n",
    ")\n",
    "from google.adk.agents.llm_agent import LlmAgent\n",
    "\n",
    "import asyncio\n",
    "from dotenv import load_dotenv\n",
    "from google.adk.runners import Runner\n",
    "from google.adk.sessions import InMemorySessionService\n",
    "from google.genai import types\n",
    "\n",
    "from google.adk.artifacts.in_memory_artifact_service import InMemoryArtifactService\n",
    "\n",
    "load_dotenv()\n",
    "\n",
    "\n",
    "async def get_tools_async(server_params):\n",
    "    \"\"\"Gets tools from MCP Server.\"\"\"\n",
    "    tools, exit_stack = await MCPToolset.from_server(connection_params=server_params)\n",
    "    # MCP requires maintaining a connection to the local MCP Server.\n",
    "    # Using exit_stack to clean up server connection before exit.\n",
    "    return tools, exit_stack\n",
    "\n",
    "\n",
    "async def get_agent_async(server_params):\n",
    "    \"\"\"Creates an ADK Agent with tools from MCP Server.\"\"\"\n",
    "    tools, exit_stack = await get_tools_async(server_params)\n",
    "    root_agent = LlmAgent(\n",
    "        model=MODEL_ID,\n",
    "        name=\"ai_assistant\",\n",
    "        instruction=\"Use tools to get information to answer user questions\",\n",
    "        tools=tools,\n",
    "    )\n",
    "    return root_agent, exit_stack"
   ]
  },
  {
   "cell_type": "markdown",
   "metadata": {},
   "source": [
    "### An Agent built using Google ADK"
   ]
  },
  {
   "cell_type": "code",
   "execution_count": 18,
   "metadata": {},
   "outputs": [],
   "source": [
    "async def run_adk_agent(server_params, question):\n",
    "    session_service = InMemorySessionService()\n",
    "    artifacts_service = InMemoryArtifactService()\n",
    "    session = session_service.create_session(state={}, app_name=\"my_app\", user_id=\"123\")\n",
    "\n",
    "    query = question\n",
    "    print(\"[user]: \", query)\n",
    "    content = types.Content(role=\"user\", parts=[types.Part(text=query)])\n",
    "    root_agent, exit_stack = await get_agent_async(server_params)\n",
    "    runner = Runner(\n",
    "        app_name=\"my_app\",\n",
    "        agent=root_agent,\n",
    "        artifact_service=artifacts_service,\n",
    "        session_service=session_service,\n",
    "    )\n",
    "    events_async = runner.run_async(\n",
    "        session_id=session.id, user_id=\"123\", new_message=content\n",
    "    )\n",
    "    # print(events_async)\n",
    "\n",
    "    async for event in events_async:\n",
    "        # print(event)\n",
    "        if event.content.role == \"user\" and event.content.parts[0].text:\n",
    "            print(\"[user]:\", event.content.parts[0].text)\n",
    "\n",
    "        if event.content.parts[0].function_response:\n",
    "            print(\"[-tool_response-]\", event.content.parts[0].function_response)\n",
    "\n",
    "        if event.content.role == \"model\" and event.content.parts[0].text:\n",
    "            print(\"[agent]:\", event.content.parts[0].text)\n",
    "\n",
    "    await exit_stack.aclose()"
   ]
  },
  {
   "cell_type": "code",
   "execution_count": 19,
   "metadata": {},
   "outputs": [],
   "source": [
    "# For this server, make sure you have Node.js installed on your machine\n",
    "bnb_server_params = StdioServerParameters(\n",
    "    command=\"npx\", args=[\"-y\", \"@openbnb/mcp-server-airbnb\", \"--ignore-robots-txt\"]\n",
    ")"
   ]
  },
  {
   "cell_type": "code",
   "execution_count": 20,
   "metadata": {},
   "outputs": [
    {
     "name": "stdout",
     "output_type": "stream",
     "text": [
      "[user]:  Please find a room in LA, CA, April 15, 2025, checkout date is april 18, 2 adults\n"
     ]
    },
    {
     "name": "stderr",
     "output_type": "stream",
     "text": [
      "Warning: there are non-text parts in the response: ['function_call'],returning concatenated text result from text parts,check out the non text parts for full response from model.\n"
     ]
    },
    {
     "name": "stdout",
     "output_type": "stream",
     "text": [
      "[-tool_response-] id='af-956a3d59-ffe0-44fc-b459-7ff78c91e2a6' name='airbnb_search' response={'result': CallToolResult(meta=None, content=[TextContent(type='text', text='{\\n  \"searchUrl\": \"https://www.airbnb.com/s/LA%2C%20CA/homes?checkin=2025-04-15&checkout=2025-04-18&adults=2&children=0&infants=0&pets=0\",\\n  \"searchResults\": [\\n    {\\n      \"url\": \"https://www.airbnb.com/rooms/51181269\",\\n      \"listing\": {\\n        \"id\": \"51181269\",\\n        \"title\": \"Condo in Long Beach\",\\n        \"structuredContent\": {\\n          \"primaryLine\": \"\"\\n        }\\n      },\\n      \"avgRatingA11yLabel\": \"4.82 out of 5 average rating,  141 reviews\",\\n      \"structuredDisplayPrice\": {\\n        \"primaryLine\": {\\n          \"accessibilityLabel\": \"$386 for 3 nights, originally $506\"\\n        },\\n        \"explanationData\": {\\n          \"title\": \"Price details\",\\n          \"priceDetails\": \"$129 x 3 nights: $386, \"\\n        }\\n      }\\n    },\\n    {\\n      \"url\": \"https://www.airbnb.com/rooms/32836965\",\\n      \"listing\": {\\n        \"id\": \"32836965\",\\n        \"title\": \"Guest suite in Los Angeles\",\\n        \"structuredContent\": {\\n          \"primaryLine\": \"1 double bed\"\\n        }\\n      },\\n      \"avgRatingA11yLabel\": \"4.85 out of 5 average rating,  294 reviews\",\\n      \"structuredDisplayPrice\": {\\n        \"primaryLine\": {\\n          \"accessibilityLabel\": \"$250 for 3 nights\"\\n        },\\n        \"explanationData\": {\\n          \"title\": \"Price details\",\\n          \"priceDetails\": \"$83 x 3 nights: $250\"\\n        }\\n      }\\n    },\\n    {\\n      \"url\": \"https://www.airbnb.com/rooms/7462294\",\\n      \"listing\": {\\n        \"id\": \"7462294\",\\n        \"title\": \"Guesthouse in Los Angeles\",\\n        \"structuredContent\": {\\n          \"mapCategoryInfo\": \"Free cancellation\",\\n          \"secondaryLine\": \"Free cancellation\"\\n        }\\n      },\\n      \"avgRatingA11yLabel\": \"4.97 out of 5 average rating,  508 reviews\",\\n      \"structuredDisplayPrice\": {\\n        \"primaryLine\": {\\n          \"accessibilityLabel\": \"$395 for 3 nights, originally $464\"\\n        },\\n        \"explanationData\": {\\n          \"title\": \"Price details\",\\n          \"priceDetails\": \"$132 x 3 nights: $395, \"\\n        }\\n      }\\n    },\\n    {\\n      \"url\": \"https://www.airbnb.com/rooms/47980793\",\\n      \"listing\": {\\n        \"id\": \"47980793\",\\n        \"title\": \"Home in Los Angeles\",\\n        \"structuredContent\": {\\n          \"primaryLine\": \"2 queen beds\"\\n        }\\n      },\\n      \"avgRatingA11yLabel\": \"4.67 out of 5 average rating,  209 reviews\",\\n      \"structuredDisplayPrice\": {\\n        \"primaryLine\": {\\n          \"accessibilityLabel\": \"$522 for 3 nights, originally $762\"\\n        },\\n        \"explanationData\": {\\n          \"title\": \"Price details\",\\n          \"priceDetails\": \"$174 x 3 nights: $522, \"\\n        }\\n      }\\n    },\\n    {\\n      \"url\": \"https://www.airbnb.com/rooms/1107987652230370005\",\\n      \"listing\": {\\n        \"id\": \"1107987652230370005\",\\n        \"title\": \"Hotel in Los Angeles\",\\n        \"structuredContent\": {\\n          \"mapCategoryInfo\": \"Free cancellation\",\\n          \"secondaryLine\": \"Free cancellation\"\\n        }\\n      },\\n      \"avgRatingA11yLabel\": \"4.7 out of 5 average rating,  962 reviews\",\\n      \"structuredDisplayPrice\": {\\n        \"primaryLine\": {\\n          \"accessibilityLabel\": \"$358 for 3 nights, originally $405\"\\n        },\\n        \"explanationData\": {\\n          \"title\": \"Price details\",\\n          \"priceDetails\": \"$135 x 3 nights: $405, Long stay discount: -$47, Price after discount: $358\"\\n        }\\n      }\\n    },\\n    {\\n      \"url\": \"https://www.airbnb.com/rooms/21041706\",\\n      \"listing\": {\\n        \"id\": \"21041706\",\\n        \"title\": \"Apartment in San Pedro\",\\n        \"structuredContent\": {\\n          \"primaryLine\": \"1 queen bed\"\\n        }\\n      },\\n      \"avgRatingA11yLabel\": \"4.7 out of 5 average rating,  504 reviews\",\\n      \"structuredDisplayPrice\": {\\n        \"primaryLine\": {\\n          \"accessibilityLabel\": \"$353 for 3 nights\"\\n        },\\n        \"explanationData\": {\\n          \"title\": \"Price details\",\\n          \"priceDetails\": \"$118 x 3 nights: $353\"\\n        }\\n      }\\n    },\\n    {\\n      \"url\": \"https://www.airbnb.com/rooms/1393727554366055708\",\\n      \"listing\": {\\n        \"id\": \"1393727554366055708\",\\n        \"title\": \"Apartment in West Hollywood\",\\n        \"structuredContent\": {\\n          \"mapCategoryInfo\": \"Free cancellation\",\\n          \"secondaryLine\": \"Free cancellation\"\\n        }\\n      },\\n      \"avgRatingA11yLabel\": \"New place to stay\",\\n      \"structuredDisplayPrice\": {\\n        \"primaryLine\": {\\n          \"accessibilityLabel\": \"$430 for 3 nights\"\\n        },\\n        \"explanationData\": {\\n          \"title\": \"Price details\",\\n          \"priceDetails\": \"$143 x 3 nights: $430\"\\n        }\\n      }\\n    },\\n    {\\n      \"url\": \"https://www.airbnb.com/rooms/31075840\",\\n      \"listing\": {\\n        \"id\": \"31075840\",\\n        \"title\": \"Home in Carson\",\\n        \"structuredContent\": {\\n          \"mapCategoryInfo\": \"Free cancellation\",\\n          \"secondaryLine\": \"Free cancellation\"\\n        }\\n      },\\n      \"avgRatingA11yLabel\": \"4.9 out of 5 average rating,  277 reviews\",\\n      \"structuredDisplayPrice\": {\\n        \"primaryLine\": {\\n          \"accessibilityLabel\": \"$278 for 3 nights\"\\n        },\\n        \"explanationData\": {\\n          \"title\": \"Price details\",\\n          \"priceDetails\": \"$93 x 3 nights: $278\"\\n        }\\n      }\\n    },\\n    {\\n      \"url\": \"https://www.airbnb.com/rooms/636286951281333360\",\\n      \"listing\": {\\n        \"id\": \"636286951281333360\",\\n        \"title\": \"Boutique hotel in Los Angeles\",\\n        \"structuredContent\": {\\n          \"mapCategoryInfo\": \"Free cancellation\",\\n          \"secondaryLine\": \"Free cancellation\"\\n        }\\n      },\\n      \"avgRatingA11yLabel\": \"4.63 out of 5 average rating,  193 reviews\",\\n      \"structuredDisplayPrice\": {\\n        \"primaryLine\": {\\n          \"accessibilityLabel\": \"$270 for 3 nights, originally $340\"\\n        },\\n        \"explanationData\": {\\n          \"title\": \"Price details\",\\n          \"priceDetails\": \"$113 x 3 nights: $340, Long stay discount: -$70, Price after discount: $270\"\\n        }\\n      }\\n    },\\n    {\\n      \"url\": \"https://www.airbnb.com/rooms/1021670601881825798\",\\n      \"listing\": {\\n        \"id\": \"1021670601881825798\",\\n        \"title\": \"Apartment in Los Angeles\",\\n        \"structuredContent\": {\\n          \"primaryLine\": \"2 beds\"\\n        }\\n      },\\n      \"avgRatingA11yLabel\": \"4.82 out of 5 average rating,  538 reviews\",\\n      \"structuredDisplayPrice\": {\\n        \"primaryLine\": {\\n          \"accessibilityLabel\": \"$442 for 3 nights\"\\n        },\\n        \"explanationData\": {\\n          \"title\": \"Price details\",\\n          \"priceDetails\": \"$147 x 3 nights: $442\"\\n        }\\n      }\\n    },\\n    {\\n      \"url\": \"https://www.airbnb.com/rooms/1340022846338469441\",\\n      \"listing\": {\\n        \"id\": \"1340022846338469441\",\\n        \"title\": \"Hotel in Los Angeles\",\\n        \"structuredContent\": {\\n          \"primaryLine\": \"1 double bed\"\\n        }\\n      },\\n      \"avgRatingA11yLabel\": \"5.0 out of 5 average rating,  9 reviews\",\\n      \"structuredDisplayPrice\": {\\n        \"primaryLine\": {\\n          \"accessibilityLabel\": \"$505 for 3 nights\"\\n        },\\n        \"explanationData\": {\\n          \"title\": \"Price details\",\\n          \"priceDetails\": \"$130 x 3 nights: $390, Resort fee: $115\"\\n        }\\n      }\\n    },\\n    {\\n      \"url\": \"https://www.airbnb.com/rooms/1393848539573337101\",\\n      \"listing\": {\\n        \"id\": \"1393848539573337101\",\\n        \"title\": \"Place to stay in East Los Angeles\",\\n        \"structuredContent\": {\\n          \"mapCategoryInfo\": \"Free cancellation\",\\n          \"secondaryLine\": \"Free cancellation\"\\n        }\\n      },\\n      \"avgRatingA11yLabel\": \"New place to stay\",\\n      \"structuredDisplayPrice\": {\\n        \"primaryLine\": {\\n          \"accessibilityLabel\": \"$256 for 3 nights\"\\n        },\\n        \"explanationData\": {\\n          \"title\": \"Price details\",\\n          \"priceDetails\": \"$85 x 3 nights: $256\"\\n        }\\n      }\\n    },\\n    {\\n      \"url\": \"https://www.airbnb.com/rooms/650303422859216779\",\\n      \"listing\": {\\n        \"id\": \"650303422859216779\",\\n        \"title\": \"Apartment in Alhambra\",\\n        \"structuredContent\": {\\n          \"primaryLine\": \"2 beds\"\\n        }\\n      },\\n      \"avgRatingA11yLabel\": \"4.89 out of 5 average rating,  63 reviews\",\\n      \"structuredDisplayPrice\": {\\n        \"primaryLine\": {\\n          \"accessibilityLabel\": \"$431 for 3 nights\"\\n        },\\n        \"explanationData\": {\\n          \"title\": \"Price details\",\\n          \"priceDetails\": \"$144 x 3 nights: $431\"\\n        }\\n      }\\n    },\\n    {\\n      \"url\": \"https://www.airbnb.com/rooms/31149341\",\\n      \"listing\": {\\n        \"id\": \"31149341\",\\n        \"title\": \"Guest suite in Los Angeles\",\\n        \"structuredContent\": {\\n          \"primaryLine\": \"2 beds\"\\n        }\\n      },\\n      \"avgRatingA11yLabel\": \"4.87 out of 5 average rating,  264 reviews\",\\n      \"structuredDisplayPrice\": {\\n        \"primaryLine\": {\\n          \"accessibilityLabel\": \"$402 for 3 nights, originally $486\"\\n        },\\n        \"explanationData\": {\\n          \"title\": \"Price details\",\\n          \"priceDetails\": \"$134 x 3 nights: $402, \"\\n        }\\n      }\\n    },\\n    {\\n      \"url\": \"https://www.airbnb.com/rooms/51498\",\\n      \"listing\": {\\n        \"id\": \"51498\",\\n        \"title\": \"Home in Los Angeles\",\\n        \"structuredContent\": {\\n          \"primaryLine\": \"1 queen bed\"\\n        }\\n      },\\n      \"avgRatingA11yLabel\": \"4.75 out of 5 average rating,  468 reviews\",\\n      \"structuredDisplayPrice\": {\\n        \"primaryLine\": {\\n          \"accessibilityLabel\": \"$510 for 3 nights, originally $600\"\\n        },\\n        \"explanationData\": {\\n          \"title\": \"Price details\",\\n          \"priceDetails\": \"$170 x 3 nights: $510, \"\\n        }\\n      }\\n    },\\n    {\\n      \"url\": \"https://www.airbnb.com/rooms/1101502039579994799\",\\n      \"listing\": {\\n        \"id\": \"1101502039579994799\",\\n        \"title\": \"Hotel in Los Angeles\",\\n        \"structuredContent\": {\\n          \"primaryLine\": \"2 double beds\"\\n        }\\n      },\\n      \"avgRatingA11yLabel\": \"4.79 out of 5 average rating,  144 reviews\",\\n      \"structuredDisplayPrice\": {\\n        \"primaryLine\": {\\n          \"accessibilityLabel\": \"$382 for 3 nights\"\\n        },\\n        \"explanationData\": {\\n          \"title\": \"Price details\",\\n          \"priceDetails\": \"$127 x 3 nights: $382\"\\n        }\\n      }\\n    },\\n    {\\n      \"url\": \"https://www.airbnb.com/rooms/14860253\",\\n      \"listing\": {\\n        \"id\": \"14860253\",\\n        \"title\": \"Home in Los Angeles County\",\\n        \"structuredContent\": {\\n          \"mapCategoryInfo\": \"Free cancellation\",\\n          \"secondaryLine\": \"Free cancellation\"\\n        }\\n      },\\n      \"avgRatingA11yLabel\": \"4.99 out of 5 average rating,  211 reviews\",\\n      \"structuredDisplayPrice\": {\\n        \"primaryLine\": {\\n          \"accessibilityLabel\": \"$455 for 3 nights, originally $524\"\\n        },\\n        \"explanationData\": {\\n          \"title\": \"Price details\",\\n          \"priceDetails\": \"$175 x 3 nights: $524, Special offer: -$69, Price after discount: $455\"\\n        }\\n      }\\n    },\\n    {\\n      \"url\": \"https://www.airbnb.com/rooms/548073732355249242\",\\n      \"listing\": {\\n        \"id\": \"548073732355249242\",\\n        \"title\": \"Apartment in Los Angeles\",\\n        \"structuredContent\": {\\n          \"primaryLine\": \"1 queen bed\"\\n        }\\n      },\\n      \"avgRatingA11yLabel\": \"4.87 out of 5 average rating,  136 reviews\",\\n      \"structuredDisplayPrice\": {\\n        \"primaryLine\": {\\n          \"accessibilityLabel\": \"$470 for 3 nights\"\\n        },\\n        \"explanationData\": {\\n          \"title\": \"Price details\",\\n          \"priceDetails\": \"$157 x 3 nights: $470\"\\n        }\\n      }\\n    }\\n  ],\\n  \"paginationInfo\": {\\n    \"pageCursors\": [\\n      \"eyJzZWN0aW9uX29mZnNldCI6MCwiaXRlbXNfb2Zmc2V0IjowLCJ2ZXJzaW9uIjoxfQ==\",\\n      \"eyJzZWN0aW9uX29mZnNldCI6MCwiaXRlbXNfb2Zmc2V0IjoxOCwidmVyc2lvbiI6MX0=\",\\n      \"eyJzZWN0aW9uX29mZnNldCI6MCwiaXRlbXNfb2Zmc2V0IjozNiwidmVyc2lvbiI6MX0=\",\\n      \"eyJzZWN0aW9uX29mZnNldCI6MCwiaXRlbXNfb2Zmc2V0Ijo1NCwidmVyc2lvbiI6MX0=\",\\n      \"eyJzZWN0aW9uX29mZnNldCI6MCwiaXRlbXNfb2Zmc2V0Ijo3MiwidmVyc2lvbiI6MX0=\",\\n      \"eyJzZWN0aW9uX29mZnNldCI6MCwiaXRlbXNfb2Zmc2V0Ijo5MCwidmVyc2lvbiI6MX0=\",\\n      \"eyJzZWN0aW9uX29mZnNldCI6MCwiaXRlbXNfb2Zmc2V0IjoxMDgsInZlcnNpb24iOjF9\",\\n      \"eyJzZWN0aW9uX29mZnNldCI6MCwiaXRlbXNfb2Zmc2V0IjoxMjYsInZlcnNpb24iOjF9\",\\n      \"eyJzZWN0aW9uX29mZnNldCI6MCwiaXRlbXNfb2Zmc2V0IjoxNDQsInZlcnNpb24iOjF9\",\\n      \"eyJzZWN0aW9uX29mZnNldCI6MCwiaXRlbXNfb2Zmc2V0IjoxNjIsInZlcnNpb24iOjF9\",\\n      \"eyJzZWN0aW9uX29mZnNldCI6MCwiaXRlbXNfb2Zmc2V0IjoxODAsInZlcnNpb24iOjF9\",\\n      \"eyJzZWN0aW9uX29mZnNldCI6MCwiaXRlbXNfb2Zmc2V0IjoxOTgsInZlcnNpb24iOjF9\",\\n      \"eyJzZWN0aW9uX29mZnNldCI6MCwiaXRlbXNfb2Zmc2V0IjoyMTYsInZlcnNpb24iOjF9\",\\n      \"eyJzZWN0aW9uX29mZnNldCI6MCwiaXRlbXNfb2Zmc2V0IjoyMzQsInZlcnNpb24iOjF9\",\\n      \"eyJzZWN0aW9uX29mZnNldCI6MCwiaXRlbXNfb2Zmc2V0IjoyNTIsInZlcnNpb24iOjF9\"\\n    ],\\n    \"nextPageCursor\": \"eyJzZWN0aW9uX29mZnNldCI6MCwiaXRlbXNfb2Zmc2V0IjoxOCwidmVyc2lvbiI6MX0=\"\\n  }\\n}', annotations=None)], isError=False)}\n",
      "[agent]: OK. I found some Airbnb options in LA for 2 adults checking in on April 15, 2025, and checking out on April 18, 2025:\n",
      "\n",
      "1.  **Guest suite in Los Angeles**: $250 for 3 nights. It has a 4.85 rating (294 reviews). [https://www.airbnb.com/rooms/32836965](https://www.airbnb.com/rooms/32836965)\n",
      "2.  **Boutique hotel in Los Angeles**: $270 for 3 nights (discounted from $340). It has a 4.63 rating (193 reviews) and offers free cancellation. [https://www.airbnb.com/rooms/636286951281333360](https://www.airbnb.com/rooms/636286951281333360)\n",
      "3.  **Home in Carson**: $278 for 3 nights. It has a 4.9 rating (277 reviews) and offers free cancellation. [https://www.airbnb.com/rooms/31075840](https://www.airbnb.com/rooms/31075840)\n",
      "4.  **Apartment in San Pedro**: $353 for 3 nights. It has a 4.7 rating (504 reviews). [https://www.airbnb.com/rooms/21041706](https://www.airbnb.com/rooms/21041706)\n",
      "5.  **Hotel in Los Angeles**: $358 for 3 nights (discounted from $405). It has a 4.7 rating (962 reviews) and offers free cancellation. [https://www.airbnb.com/rooms/1107987652230370005](https://www.airbnb.com/rooms/1107987652230370005)\n",
      "\n",
      "Would you like to see more options or get details on any of these?\n"
     ]
    }
   ],
   "source": [
    "response = await run_adk_agent(\n",
    "    bnb_server_params,\n",
    "    \"Please find a room in LA, CA, April 15, 2025, checkout date is april 18, 2 adults\",\n",
    ")"
   ]
  },
  {
   "cell_type": "code",
   "execution_count": 21,
   "metadata": {},
   "outputs": [
    {
     "name": "stdout",
     "output_type": "stream",
     "text": [
      "[user]:  give more details of id 7462294\n"
     ]
    },
    {
     "name": "stderr",
     "output_type": "stream",
     "text": [
      "Warning: there are non-text parts in the response: ['function_call'],returning concatenated text result from text parts,check out the non text parts for full response from model.\n"
     ]
    },
    {
     "name": "stdout",
     "output_type": "stream",
     "text": [
      "[-tool_response-] id='af-ad06054b-64e7-4939-b65d-b53efe079830' name='airbnb_listing_details' response={'result': CallToolResult(meta=None, content=[TextContent(type='text', text='{\\n  \"listingUrl\": \"https://www.airbnb.com/rooms/7462294?adults=1&children=0&infants=0&pets=0\",\\n  \"details\": [\\n    {\\n      \"id\": \"LOCATION_DEFAULT\",\\n      \"lat\": 34.0743,\\n      \"lng\": -118.176,\\n      \"subtitle\": \"Los Angeles, California, United States\",\\n      \"title\": \"Where you’ll be\"\\n    },\\n    {\\n      \"id\": \"POLICIES_DEFAULT\",\\n      \"title\": \"Things to know\",\\n      \"houseRulesSections\": \"Checking in and out: Check-in after 4:00\\u202fPM, Checkout before 12:00\\u202fPM, Self check-in with building staff, During your stay: 2 guests maximum, No pets, No parties or events, No smoking, Additional rules, Before you leave: Additional requests\"\\n    },\\n    {\\n      \"id\": \"HIGHLIGHTS_DEFAULT\",\\n      \"highlights\": \"Top 10% of homes, 24-hour self check-in, Mountain and valley views\"\\n    },\\n    {\\n      \"id\": \"DESCRIPTION_DEFAULT\",\\n      \"htmlDescription\": {\\n        \"htmlText\": \"Detached guest house nestled on a hilltop within a completely private compound.  Our home is our sanctuary, a place to escape the hustle and bustle of the city.  Yet, we are right in the middle of the city!<br /><br />Home Sharing Registration Number: HSR19-000268<br /><br /><b>The space</b><br />We have a large and very private property with a zen and resort-like aesthetic. <br />The yard is completely enclosed with lots of mature trees, tropical plants and bamboo. <br />You will feel like you\\'re miles away from the big city.<br /><br /><b>Guest access</b><br />The guest house is detached and has a private parking spot. Guests can have access to our pool and cabana by appointment ahead of time (note: we also use the pool but like to provide privacy for our guests if we know ahead of time). The pool is solar-heated and generally great for swimming from early Spring through early Fall. <br /><br />You may also have access to our laundry room located in the main house.<br /><br /><b>Other things to note</b><br />We can be flexible on the check-in and check-out times, depending on the when the previous guests check out and when the future guests check in.<br /><br /><b>Registration number</b><br />HSR19-000268\"\\n      }\\n    },\\n    {\\n      \"id\": \"AMENITIES_DEFAULT\",\\n      \"title\": \"What this place offers\",\\n      \"seeAllAmenitiesGroups\": \"Scenic views: Valley view, Mountain view, Garden view, Pool view, Bathroom: Hair dryer, Cleaning products, Shampoo, Conditioner, Body soap, Outdoor shower, Hot water, Shower gel, Bedroom and laundry: Washer, Dryer, Essentials, Hangers, Bed linens, Extra pillows and blankets, Iron, Clothing storage, Entertainment: HDTV with Amazon Prime Video, HBO Max, Netflix, Family: Fireplace guards, Heating and cooling: Air conditioning, Heating, Home safety: Smoke alarm, Carbon monoxide alarm, Fire extinguisher, First aid kit, Internet and office: Wifi, Dedicated workspace, Kitchen and dining: Refrigerator, Microwave, Dishes and silverware, Mini fridge, Hot water kettle, Coffee maker, Wine glasses, Toaster, Blender, Kitchenette, Dining table, Coffee, Location features: Private entrance, Outdoor: Patio or balcony, Private backyard – Fully fenced, Fire pit, Outdoor furniture, BBQ grill, Beach essentials, Sun loungers, Parking and facilities: Free parking on premises, Free street parking, Shared pool, Single level home, Services: Luggage dropoff allowed, Long term stays allowed, Self check-in, Building staff, Not included: Kitchen\"\\n    }\\n  ]\\n}', annotations=None)], isError=False)}\n",
      "[agent]: Okay, here are more details for the Airbnb listing with ID 7462294:\n",
      "\n",
      "**Location:** Los Angeles, California, United States (Latitude: 34.0743, Longitude: -118.176)\n",
      "\n",
      "**Description:**\n",
      "It's a detached guest house on a hilltop within a private compound, described as a sanctuary away from the city bustle but still centrally located. The property has a zen, resort-like feel with a large, private, enclosed yard featuring mature trees, tropical plants, and bamboo.\n",
      "\n",
      "*   **The space:** Detached guest house.\n",
      "*   **Guest access:** Private parking spot. Access to the shared pool and cabana is available by appointment to ensure guest privacy (the pool is solar-heated, suitable for swimming from early spring to early fall). Access to the laundry room in the main house is also possible.\n",
      "*   **Other things to note:** Flexible check-in/check-out times may be possible depending on other bookings.\n",
      "*   **Registration number:** HSR19-000268\n",
      "\n",
      "**Highlights:**\n",
      "*   Top 10% of homes on Airbnb\n",
      "*   24-hour self check-in\n",
      "*   Mountain and valley views\n",
      "\n",
      "**Key Amenities:**\n",
      "*   **Views:** Valley, Mountain, Garden, Pool\n",
      "*   **Bathroom:** Hair dryer, cleaning products, shampoo, conditioner, body soap, outdoor shower, hot water, shower gel.\n",
      "*   **Bedroom/Laundry:** Washer, Dryer, Essentials, Hangers, Linens, Iron, Storage.\n",
      "*   **Entertainment:** HDTV with Amazon Prime Video, HBO Max, Netflix.\n",
      "*   **Heating/Cooling:** Air conditioning, Heating.\n",
      "*   **Home Safety:** Smoke alarm, Carbon monoxide alarm, Fire extinguisher, First aid kit.\n",
      "*   **Internet/Office:** Wifi, Dedicated workspace.\n",
      "*   **Kitchenette:** Refrigerator, Microwave, Dishes/silverware, Mini fridge, Hot water kettle, Coffee maker, Wine glasses, Toaster, Blender, Dining table, Coffee. (Note: Full kitchen is not included).\n",
      "*   **Outdoor:** Patio/balcony, Private fully fenced backyard, Fire pit, Outdoor furniture, BBQ grill, Beach essentials, Sun loungers.\n",
      "*   **Parking/Facilities:** Free parking on premises, Free street parking, Shared pool, Single level home.\n",
      "*   **Services:** Luggage dropoff allowed, Long term stays allowed, Self check-in (with building staff).\n",
      "\n",
      "**Things to Know (House Rules):**\n",
      "*   **Check-in:** After 4:00 PM (Self check-in with building staff)\n",
      "*   **Checkout:** Before 12:00 PM\n",
      "*   **Guests:** 2 maximum\n",
      "*   **Pets:** No pets allowed\n",
      "*   **Parties/Events:** No parties or events\n",
      "*   **Smoking:** No smoking\n",
      "\n",
      "You can view the listing directly here: [https://www.airbnb.com/rooms/7462294?adults=1&children=0&infants=0&pets=0](https://www.airbnb.com/rooms/7462294?adults=1&children=0&infants=0&pets=0)\n"
     ]
    }
   ],
   "source": [
    "await run_adk_agent(bnb_server_params, \"give more details of id 7462294\")"
   ]
  },
  {
   "cell_type": "code",
   "execution_count": null,
   "metadata": {},
   "outputs": [
    {
     "name": "stdout",
     "output_type": "stream",
     "text": [
      "[user]:  Please find a room in LA, CA, April 15, 2025, checkout date is april 18, 2 adults\n"
     ]
    },
    {
     "name": "stderr",
     "output_type": "stream",
     "text": [
      "Warning: there are non-text parts in the response: ['function_call'],returning concatenated text result from text parts,check out the non text parts for full response from model.\n"
     ]
    },
    {
     "name": "stdout",
     "output_type": "stream",
     "text": [
      "[-tool_response-] id='adk-5d99ae3f-df1a-46ea-b8fb-724af3802ce0' name='airbnb_search' response={'result': CallToolResult(meta=None, content=[TextContent(type='text', text='{\\n  \"searchUrl\": \"https://www.airbnb.com/s/LA%2C%20CA/homes?checkin=2025-04-15&checkout=2025-04-18&adults=2&children=0&infants=0&pets=0\",\\n  \"searchResults\": [\\n    {\\n      \"url\": \"https://www.airbnb.com/rooms/51181269\",\\n      \"listing\": {\\n        \"id\": \"51181269\",\\n        \"title\": \"Condo in Long Beach\",\\n        \"structuredContent\": {\\n          \"primaryLine\": \"\"\\n        }\\n      },\\n      \"avgRatingA11yLabel\": \"4.82 out of 5 average rating,  141 reviews\",\\n      \"structuredDisplayPrice\": {\\n        \"primaryLine\": {\\n          \"accessibilityLabel\": \"$386 for 3 nights, originally $506\"\\n        },\\n        \"explanationData\": {\\n          \"title\": \"Price details\",\\n          \"priceDetails\": \"$129 x 3 nights: $386, \"\\n        }\\n      }\\n    },\\n    {\\n      \"url\": \"https://www.airbnb.com/rooms/32836965\",\\n      \"listing\": {\\n        \"id\": \"32836965\",\\n        \"title\": \"Guest suite in Los Angeles\",\\n        \"structuredContent\": {\\n          \"primaryLine\": \"1 double bed\"\\n        }\\n      },\\n      \"avgRatingA11yLabel\": \"4.85 out of 5 average rating,  294 reviews\",\\n      \"structuredDisplayPrice\": {\\n        \"primaryLine\": {\\n          \"accessibilityLabel\": \"$250 for 3 nights\"\\n        },\\n        \"explanationData\": {\\n          \"title\": \"Price details\",\\n          \"priceDetails\": \"$83 x 3 nights: $250\"\\n        }\\n      }\\n    },\\n    {\\n      \"url\": \"https://www.airbnb.com/rooms/7462294\",\\n      \"listing\": {\\n        \"id\": \"7462294\",\\n        \"title\": \"Guesthouse in Los Angeles\",\\n        \"structuredContent\": {\\n          \"mapCategoryInfo\": \"Free cancellation\",\\n          \"secondaryLine\": \"Free cancellation\"\\n        }\\n      },\\n      \"avgRatingA11yLabel\": \"4.97 out of 5 average rating,  508 reviews\",\\n      \"structuredDisplayPrice\": {\\n        \"primaryLine\": {\\n          \"accessibilityLabel\": \"$394 for 3 nights, originally $464\"\\n        },\\n        \"explanationData\": {\\n          \"title\": \"Price details\",\\n          \"priceDetails\": \"$131 x 3 nights: $394, \"\\n        }\\n      }\\n    },\\n    {\\n      \"url\": \"https://www.airbnb.com/rooms/1110238561630791242\",\\n      \"listing\": {\\n        \"id\": \"1110238561630791242\",\\n        \"title\": \"Hotel in Los Angeles\",\\n        \"structuredContent\": {\\n          \"mapCategoryInfo\": \"Free cancellation\",\\n          \"secondaryLine\": \"Free cancellation\"\\n        }\\n      },\\n      \"avgRatingA11yLabel\": \"4.72 out of 5 average rating,  329 reviews\",\\n      \"structuredDisplayPrice\": {\\n        \"primaryLine\": {\\n          \"accessibilityLabel\": \"$332 for 3 nights, originally $375\"\\n        },\\n        \"explanationData\": {\\n          \"title\": \"Price details\",\\n          \"priceDetails\": \"$125 x 3 nights: $375, Long stay discount: -$43, Price after discount: $332\"\\n        }\\n      }\\n    },\\n    {\\n      \"url\": \"https://www.airbnb.com/rooms/21041706\",\\n      \"listing\": {\\n        \"id\": \"21041706\",\\n        \"title\": \"Apartment in San Pedro\",\\n        \"structuredContent\": {\\n          \"primaryLine\": \"1 queen bed\"\\n        }\\n      },\\n      \"avgRatingA11yLabel\": \"4.7 out of 5 average rating,  504 reviews\",\\n      \"structuredDisplayPrice\": {\\n        \"primaryLine\": {\\n          \"accessibilityLabel\": \"$353 for 3 nights\"\\n        },\\n        \"explanationData\": {\\n          \"title\": \"Price details\",\\n          \"priceDetails\": \"$118 x 3 nights: $353\"\\n        }\\n      }\\n    },\\n    {\\n      \"url\": \"https://www.airbnb.com/rooms/636286951281333360\",\\n      \"listing\": {\\n        \"id\": \"636286951281333360\",\\n        \"title\": \"Boutique hotel in Los Angeles\",\\n        \"structuredContent\": {\\n          \"mapCategoryInfo\": \"Free cancellation\",\\n          \"secondaryLine\": \"Free cancellation\"\\n        }\\n      },\\n      \"avgRatingA11yLabel\": \"4.63 out of 5 average rating,  192 reviews\",\\n      \"structuredDisplayPrice\": {\\n        \"primaryLine\": {\\n          \"accessibilityLabel\": \"$270 for 3 nights, originally $340\"\\n        },\\n        \"explanationData\": {\\n          \"title\": \"Price details\",\\n          \"priceDetails\": \"$113 x 3 nights: $340, Long stay discount: -$70, Price after discount: $270\"\\n        }\\n      }\\n    },\\n    {\\n      \"url\": \"https://www.airbnb.com/rooms/47980793\",\\n      \"listing\": {\\n        \"id\": \"47980793\",\\n        \"title\": \"Home in Los Angeles\",\\n        \"structuredContent\": {\\n          \"primaryLine\": \"2 queen beds\"\\n        }\\n      },\\n      \"avgRatingA11yLabel\": \"4.67 out of 5 average rating,  209 reviews\",\\n      \"structuredDisplayPrice\": {\\n        \"primaryLine\": {\\n          \"accessibilityLabel\": \"$522 for 3 nights, originally $762\"\\n        },\\n        \"explanationData\": {\\n          \"title\": \"Price details\",\\n          \"priceDetails\": \"$174 x 3 nights: $522, \"\\n        }\\n      }\\n    },\\n    {\\n      \"url\": \"https://www.airbnb.com/rooms/1340022846338469441\",\\n      \"listing\": {\\n        \"id\": \"1340022846338469441\",\\n        \"title\": \"Hotel in Los Angeles\",\\n        \"structuredContent\": {\\n          \"primaryLine\": \"1 double bed\"\\n        }\\n      },\\n      \"avgRatingA11yLabel\": \"5.0 out of 5 average rating,  9 reviews\",\\n      \"structuredDisplayPrice\": {\\n        \"primaryLine\": {\\n          \"accessibilityLabel\": \"$505 for 3 nights\"\\n        },\\n        \"explanationData\": {\\n          \"title\": \"Price details\",\\n          \"priceDetails\": \"$130 x 3 nights: $390, Resort fee: $115\"\\n        }\\n      }\\n    },\\n    {\\n      \"url\": \"https://www.airbnb.com/rooms/31075840\",\\n      \"listing\": {\\n        \"id\": \"31075840\",\\n        \"title\": \"Home in Carson\",\\n        \"structuredContent\": {\\n          \"mapCategoryInfo\": \"Free cancellation\",\\n          \"secondaryLine\": \"Free cancellation\"\\n        }\\n      },\\n      \"avgRatingA11yLabel\": \"4.9 out of 5 average rating,  277 reviews\",\\n      \"structuredDisplayPrice\": {\\n        \"primaryLine\": {\\n          \"accessibilityLabel\": \"$278 for 3 nights\"\\n        },\\n        \"explanationData\": {\\n          \"title\": \"Price details\",\\n          \"priceDetails\": \"$93 x 3 nights: $278\"\\n        }\\n      }\\n    },\\n    {\\n      \"url\": \"https://www.airbnb.com/rooms/853685694375788877\",\\n      \"listing\": {\\n        \"id\": \"853685694375788877\",\\n        \"title\": \"Guest suite in Los Angeles\",\\n        \"structuredContent\": {\\n          \"mapCategoryInfo\": \"Free cancellation\",\\n          \"secondaryLine\": \"Free cancellation\"\\n        }\\n      },\\n      \"avgRatingA11yLabel\": \"4.94 out of 5 average rating,  161 reviews\",\\n      \"structuredDisplayPrice\": {\\n        \"primaryLine\": {\\n          \"accessibilityLabel\": \"$527 for 3 nights\"\\n        },\\n        \"explanationData\": {\\n          \"title\": \"Price details\",\\n          \"priceDetails\": \"$176 x 3 nights: $527\"\\n        }\\n      }\\n    },\\n    {\\n      \"url\": \"https://www.airbnb.com/rooms/650303422859216779\",\\n      \"listing\": {\\n        \"id\": \"650303422859216779\",\\n        \"title\": \"Apartment in Alhambra\",\\n        \"structuredContent\": {\\n          \"primaryLine\": \"2 beds\"\\n        }\\n      },\\n      \"avgRatingA11yLabel\": \"4.89 out of 5 average rating,  63 reviews\",\\n      \"structuredDisplayPrice\": {\\n        \"primaryLine\": {\\n          \"accessibilityLabel\": \"$415 for 3 nights, originally $453\"\\n        },\\n        \"explanationData\": {\\n          \"title\": \"Price details\",\\n          \"priceDetails\": \"$138 x 3 nights: $415, \"\\n        }\\n      }\\n    },\\n    {\\n      \"url\": \"https://www.airbnb.com/rooms/1393847147325124889\",\\n      \"listing\": {\\n        \"id\": \"1393847147325124889\",\\n        \"title\": \"Place to stay in East Los Angeles\",\\n        \"structuredContent\": {\\n          \"mapCategoryInfo\": \"Free cancellation\",\\n          \"secondaryLine\": \"Free cancellation\"\\n        }\\n      },\\n      \"avgRatingA11yLabel\": \"New place to stay\",\\n      \"structuredDisplayPrice\": {\\n        \"primaryLine\": {\\n          \"accessibilityLabel\": \"$262 for 3 nights\"\\n        },\\n        \"explanationData\": {\\n          \"title\": \"Price details\",\\n          \"priceDetails\": \"$87 x 3 nights: $262\"\\n        }\\n      }\\n    },\\n    {\\n      \"url\": \"https://www.airbnb.com/rooms/1021670601881825798\",\\n      \"listing\": {\\n        \"id\": \"1021670601881825798\",\\n        \"title\": \"Apartment in Los Angeles\",\\n        \"structuredContent\": {\\n          \"primaryLine\": \"2 beds\"\\n        }\\n      },\\n      \"avgRatingA11yLabel\": \"4.82 out of 5 average rating,  536 reviews\",\\n      \"structuredDisplayPrice\": {\\n        \"primaryLine\": {\\n          \"accessibilityLabel\": \"$447 for 3 nights\"\\n        },\\n        \"explanationData\": {\\n          \"title\": \"Price details\",\\n          \"priceDetails\": \"$149 x 3 nights: $447\"\\n        }\\n      }\\n    },\\n    {\\n      \"url\": \"https://www.airbnb.com/rooms/28569760\",\\n      \"listing\": {\\n        \"id\": \"28569760\",\\n        \"title\": \"Guesthouse in Los Angeles\",\\n        \"structuredContent\": {\\n          \"mapCategoryInfo\": \"Free cancellation\",\\n          \"secondaryLine\": \"Free cancellation\"\\n        }\\n      },\\n      \"avgRatingA11yLabel\": \"4.97 out of 5 average rating,  333 reviews\",\\n      \"structuredDisplayPrice\": {\\n        \"primaryLine\": {\\n          \"accessibilityLabel\": \"$356 for 3 nights, originally $389\"\\n        },\\n        \"explanationData\": {\\n          \"title\": \"Price details\",\\n          \"priceDetails\": \"$130 x 3 nights: $389, Special offer: -$33, Price after discount: $356\"\\n        }\\n      }\\n    },\\n    {\\n      \"url\": \"https://www.airbnb.com/rooms/31149341\",\\n      \"listing\": {\\n        \"id\": \"31149341\",\\n        \"title\": \"Guest suite in Los Angeles\",\\n        \"structuredContent\": {\\n          \"primaryLine\": \"2 beds\"\\n        }\\n      },\\n      \"avgRatingA11yLabel\": \"4.87 out of 5 average rating,  264 reviews\",\\n      \"structuredDisplayPrice\": {\\n        \"primaryLine\": {\\n          \"accessibilityLabel\": \"$402 for 3 nights, originally $486\"\\n        },\\n        \"explanationData\": {\\n          \"title\": \"Price details\",\\n          \"priceDetails\": \"$134 x 3 nights: $402, \"\\n        }\\n      }\\n    },\\n    {\\n      \"url\": \"https://www.airbnb.com/rooms/1002982615301260302\",\\n      \"listing\": {\\n        \"id\": \"1002982615301260302\",\\n        \"title\": \"Home in El Monte\",\\n        \"structuredContent\": {\\n          \"primaryLine\": \"1 queen bed\"\\n        }\\n      },\\n      \"avgRatingA11yLabel\": \"4.94 out of 5 average rating,  133 reviews\",\\n      \"structuredDisplayPrice\": {\\n        \"primaryLine\": {\\n          \"accessibilityLabel\": \"$242 for 3 nights, originally $350\"\\n        },\\n        \"explanationData\": {\\n          \"title\": \"Price details\",\\n          \"priceDetails\": \"$117 x 3 nights: $350, Special offer: -$108, Price after discount: $242\"\\n        }\\n      }\\n    },\\n    {\\n      \"url\": \"https://www.airbnb.com/rooms/1101502039846947341\",\\n      \"listing\": {\\n        \"id\": \"1101502039846947341\",\\n        \"title\": \"Hotel in Los Angeles\",\\n        \"structuredContent\": {\\n          \"primaryLine\": \"1 king bed\"\\n        }\\n      },\\n      \"avgRatingA11yLabel\": \"4.62 out of 5 average rating,  252 reviews\",\\n      \"structuredDisplayPrice\": {\\n        \"primaryLine\": {\\n          \"accessibilityLabel\": \"$382 for 3 nights\"\\n        },\\n        \"explanationData\": {\\n          \"title\": \"Price details\",\\n          \"priceDetails\": \"$127 x 3 nights: $382\"\\n        }\\n      }\\n    },\\n    {\\n      \"url\": \"https://www.airbnb.com/rooms/51066461\",\\n      \"listing\": {\\n        \"id\": \"51066461\",\\n        \"title\": \"Apartment in Beverly Hills\",\\n        \"structuredContent\": {\\n          \"primaryLine\": \"1 queen bed\"\\n        }\\n      },\\n      \"avgRatingA11yLabel\": \"4.55 out of 5 average rating,  128 reviews\",\\n      \"structuredDisplayPrice\": {\\n        \"primaryLine\": {\\n          \"accessibilityLabel\": \"$558 for 3 nights, originally $688\"\\n        },\\n        \"explanationData\": {\\n          \"title\": \"Price details\",\\n          \"priceDetails\": \"$186 x 3 nights: $558, \"\\n        }\\n      }\\n    }\\n  ],\\n  \"paginationInfo\": {\\n    \"pageCursors\": [\\n      \"eyJzZWN0aW9uX29mZnNldCI6MCwiaXRlbXNfb2Zmc2V0IjowLCJ2ZXJzaW9uIjoxfQ==\",\\n      \"eyJzZWN0aW9uX29mZnNldCI6MCwiaXRlbXNfb2Zmc2V0IjoxOCwidmVyc2lvbiI6MX0=\",\\n      \"eyJzZWN0aW9uX29mZnNldCI6MCwiaXRlbXNfb2Zmc2V0IjozNiwidmVyc2lvbiI6MX0=\",\\n      \"eyJzZWN0aW9uX29mZnNldCI6MCwiaXRlbXNfb2Zmc2V0Ijo1NCwidmVyc2lvbiI6MX0=\",\\n      \"eyJzZWN0aW9uX29mZnNldCI6MCwiaXRlbXNfb2Zmc2V0Ijo3MiwidmVyc2lvbiI6MX0=\",\\n      \"eyJzZWN0aW9uX29mZnNldCI6MCwiaXRlbXNfb2Zmc2V0Ijo5MCwidmVyc2lvbiI6MX0=\",\\n      \"eyJzZWN0aW9uX29mZnNldCI6MCwiaXRlbXNfb2Zmc2V0IjoxMDgsInZlcnNpb24iOjF9\",\\n      \"eyJzZWN0aW9uX29mZnNldCI6MCwiaXRlbXNfb2Zmc2V0IjoxMjYsInZlcnNpb24iOjF9\",\\n      \"eyJzZWN0aW9uX29mZnNldCI6MCwiaXRlbXNfb2Zmc2V0IjoxNDQsInZlcnNpb24iOjF9\",\\n      \"eyJzZWN0aW9uX29mZnNldCI6MCwiaXRlbXNfb2Zmc2V0IjoxNjIsInZlcnNpb24iOjF9\",\\n      \"eyJzZWN0aW9uX29mZnNldCI6MCwiaXRlbXNfb2Zmc2V0IjoxODAsInZlcnNpb24iOjF9\",\\n      \"eyJzZWN0aW9uX29mZnNldCI6MCwiaXRlbXNfb2Zmc2V0IjoxOTgsInZlcnNpb24iOjF9\",\\n      \"eyJzZWN0aW9uX29mZnNldCI6MCwiaXRlbXNfb2Zmc2V0IjoyMTYsInZlcnNpb24iOjF9\",\\n      \"eyJzZWN0aW9uX29mZnNldCI6MCwiaXRlbXNfb2Zmc2V0IjoyMzQsInZlcnNpb24iOjF9\",\\n      \"eyJzZWN0aW9uX29mZnNldCI6MCwiaXRlbXNfb2Zmc2V0IjoyNTIsInZlcnNpb24iOjF9\"\\n    ],\\n    \"nextPageCursor\": \"eyJzZWN0aW9uX29mZnNldCI6MCwiaXRlbXNfb2Zmc2V0IjoxOCwidmVyc2lvbiI6MX0=\"\\n  }\\n}', annotations=None)], isError=False)}\n",
      "[agent]: OK. I found several Airbnb listings in LA, CA for 2 adults, checking in on April 15, 2025, and checking out on April 18, 2025. Here are a few options:\n",
      "\n",
      "1.  **Condo in Long Beach**\n",
      "    *   Rating: 4.82 out of 5 (141 reviews)\n",
      "    *   Price for 3 nights: $386 (originally $506)\n",
      "    *   Link: [https://www.airbnb.com/rooms/51181269](https://www.airbnb.com/rooms/51181269)\n",
      "2.  **Guest suite in Los Angeles** (1 double bed)\n",
      "    *   Rating: 4.85 out of 5 (294 reviews)\n",
      "    *   Price for 3 nights: $250\n",
      "    *   Link: [https://www.airbnb.com/rooms/32836965](https://www.airbnb.com/rooms/32836965)\n",
      "3.  **Guesthouse in Los Angeles** (Free cancellation)\n",
      "    *   Rating: 4.97 out of 5 (508 reviews)\n",
      "    *   Price for 3 nights: $394 (originally $464)\n",
      "    *   Link: [https://www.airbnb.com/rooms/7462294](https://www.airbnb.com/rooms/7462294)\n",
      "4.  **Hotel in Los Angeles** (Free cancellation)\n",
      "    *   Rating: 4.72 out of 5 (329 reviews)\n",
      "    *   Price for 3 nights: $332 (originally $375)\n",
      "    *   Link: [https://www.airbnb.com/rooms/1110238561630791242](https://www.airbnb.com/rooms/1110238561630791242)\n",
      "5.  **Apartment in San Pedro** (1 queen bed)\n",
      "    *   Rating: 4.7 out of 5 (504 reviews)\n",
      "    *   Price for 3 nights: $353\n",
      "    *   Link: [https://www.airbnb.com/rooms/21041706](https://www.airbnb.com/rooms/21041706)\n",
      "\n",
      "Would you like to see more options or get details on any of these?\n",
      "[user]:  yes pleas find details of 51181269\n"
     ]
    },
    {
     "name": "stderr",
     "output_type": "stream",
     "text": [
      "Warning: there are non-text parts in the response: ['function_call'],returning concatenated text result from text parts,check out the non text parts for full response from model.\n"
     ]
    },
    {
     "name": "stdout",
     "output_type": "stream",
     "text": [
      "[-tool_response-] id='adk-778f1133-9105-4982-9e32-8bdf94e5ab85' name='airbnb_listing_details' response={'result': CallToolResult(meta=None, content=[TextContent(type='text', text='{\\n  \"listingUrl\": \"https://www.airbnb.com/rooms/51181269?adults=1&children=0&infants=0&pets=0\",\\n  \"details\": [\\n    {\\n      \"id\": \"POLICIES_DEFAULT\",\\n      \"title\": \"Things to know\",\\n      \"houseRulesSections\": \"Checking in and out: Check-in after 4:00\\u202fPM, Checkout before 11:00\\u202fAM, Self check-in with smart lock, During your stay: 2 guests maximum, No pets, No parties or events, No smoking, Before you leave: Gather used towels, Turn things off, Lock up\"\\n    },\\n    {\\n      \"id\": \"LOCATION_DEFAULT\",\\n      \"lat\": 33.7714,\\n      \"lng\": -118.1738,\\n      \"subtitle\": \"Long Beach, California, United States\",\\n      \"title\": \"Where you’ll be\"\\n    },\\n    {\\n      \"id\": \"HIGHLIGHTS_DEFAULT\",\\n      \"highlights\": \"Self check-in, Nicole is a Superhost\"\\n    },\\n    {\\n      \"id\": \"DESCRIPTION_DEFAULT\",\\n      \"htmlDescription\": {\\n        \"htmlText\": \"Enjoy the convenience of a centrally-located 1 bedroom apartment style, where you can walk to the beach, shop and eat like locals. Although shops and restaurants are only a five-minute away, the area feels peaceful and secluded.<br /><br />0.5 mile or 10 walk to the beach<br />5 miles from Long Beach airport<br />1.4 miles to Long Beach Convention & Entertainment Center.<br /><br /><b>The space</b><br />The house is a spacious newly renovated one bed room, one bath room residential home with fully functional kitchen. There\\'s also a cute private porch/patio at the front for your use <br /><br />BEDROOM - BLACK OUT CURTAINS, QUEEN SIZE MEMORY FOAM BED, CEILING FAN, CLOSET + DESK & CHAIR <br /><br />LIVING ROOM - Light and bright with air conditioner, smart TV with access to Netflix and more<br /><br />KITCHEN - fully equipped with microwave, refrigerator, cookware and utensils.<br /><br /><b>Guest access</b><br />The entire unit is available for guests as well as the patio immediately outside of the property.<br /><br /><b>Other things to note</b><br />•\\\\tStreet sweeping is on Monday, 9AM to 11AM. Please move your car to the driveway on Sunday night or early morning Monday to avoid tickets.<br />•\\\\tPlease have your profile with Online and Offline ID verification.<br />•\\\\tNo parties. This is a residential neighborhood and we want our neighbors to feel respected.<br />•\\\\tNo unregistered guests.<br /><br /><b>Registration number</b><br />NRP24-01816\"\\n      }\\n    },\\n    {\\n      \"id\": \"AMENITIES_DEFAULT\",\\n      \"title\": \"What this place offers\",\\n      \"seeAllAmenitiesGroups\": \"Bathroom: Hair dryer, Cleaning products, Shampoo, Conditioner, Body soap, Hot water, Shower gel, Bedroom and laundry: Essentials, Hangers, Bed linens, Room-darkening shades, Clothing storage: closet, Entertainment: TV, Heating and cooling: Air conditioning, Ceiling fan, Heating, Home safety: Exterior security cameras on property, Smoke alarm, Carbon monoxide alarm, Fire extinguisher, First aid kit, Internet and office: Wifi, Dedicated workspace, Kitchen and dining: Kitchen, Refrigerator, Microwave, Cooking basics, Dishes and silverware, Freezer, Induction stove, Stainless steel oven, Hot water kettle, Dining table, Location features: Private entrance, Laundromat nearby, Outdoor: Private patio or balcony, Parking and facilities: Free parking garage on premises, Free street parking, Single level home, Services: Long term stays allowed, Self check-in, Smart lock, Not included: Washer\"\\n    }\\n  ]\\n}', annotations=None)], isError=False)}\n",
      "[agent]: OK. Here are the details for the Airbnb listing with ID 51181269:\n",
      "\n",
      "**Listing:** [https://www.airbnb.com/rooms/51181269?adults=1&children=0&infants=0&pets=0](https://www.airbnb.com/rooms/51181269?adults=1&children=0&infants=0&pets=0)\n",
      "\n",
      "**Location:** Long Beach, California, United States (Latitude: 33.7714, Longitude: -118.1738)\n",
      "\n",
      "**Description:**\n",
      "Enjoy the convenience of a centrally-located 1 bedroom apartment style, where you can walk to the beach, shop and eat like locals. Although shops and restaurants are only a five-minute away, the area feels peaceful and secluded.\n",
      "*   0.5 mile or 10 walk to the beach\n",
      "*   5 miles from Long Beach airport\n",
      "*   1.4 miles to Long Beach Convention & Entertainment Center.\n",
      "The house is a spacious newly renovated one bed room, one bath room residential home with fully functional kitchen. There's also a cute private porch/patio at the front for your use.\n",
      "*   **Bedroom:** Blackout curtains, queen size memory foam bed, ceiling fan, closet + desk & chair.\n",
      "*   **Living Room:** Light and bright with air conditioner, smart TV with access to Netflix and more.\n",
      "*   **Kitchen:** Fully equipped with microwave, refrigerator, cookware and utensils.\n",
      "*   **Guest access:** The entire unit is available for guests as well as the patio immediately outside of the property.\n",
      "*   **Other things to note:** Street sweeping is on Monday, 9AM to 11AM. Please move your car to the driveway on Sunday night or early morning Monday to avoid tickets. Please have your profile with Online and Offline ID verification. No parties. No unregistered guests.\n",
      "\n",
      "**Highlights:**\n",
      "*   Self check-in\n",
      "*   Nicole is a Superhost\n",
      "\n",
      "**Things to know (House Rules):**\n",
      "*   Check-in after 4:00 PM, Checkout before 11:00 AM\n",
      "*   Self check-in with smart lock\n",
      "*   2 guests maximum\n",
      "*   No pets\n",
      "*   No parties or events\n",
      "*   No smoking\n",
      "*   Before you leave: Gather used towels, Turn things off, Lock up\n",
      "\n",
      "**Key Amenities:**\n",
      "*   Kitchen, Refrigerator, Microwave, Cooking basics, Dishes and silverware, Freezer, Induction stove, Stainless steel oven, Hot water kettle, Dining table\n",
      "*   Wifi, Dedicated workspace\n",
      "*   TV\n",
      "*   Air conditioning, Ceiling fan, Heating\n",
      "*   Hair dryer, Shampoo, Conditioner, Body soap, Hot water\n",
      "*   Essentials (Towels, bed sheets, soap, and toilet paper), Hangers, Bed linens, Room-darkening shades, Closet\n",
      "*   Exterior security cameras on property, Smoke alarm, Carbon monoxide alarm, Fire extinguisher, First aid kit\n",
      "*   Private patio or balcony\n",
      "*   Free parking garage on premises, Free street parking\n",
      "*   Private entrance\n",
      "*   Long term stays allowed\n",
      "*   *Not included: Washer* (Laundromat nearby)\n",
      "\n",
      "**Registration number:** NRP24-01816\n",
      "Exiting chat.\n"
     ]
    }
   ],
   "source": [
    "while True:\n",
    "    user_input = input(\"You: \")\n",
    "    if user_input.lower() == \"exit\":\n",
    "        print(\"Exiting chat.\")\n",
    "        break\n",
    "    await run_adk_agent(bnb_server_params, user_input)"
   ]
  },
  {
   "cell_type": "code",
   "execution_count": 22,
   "metadata": {},
   "outputs": [],
   "source": [
    "ct_server_params = StdioServerParameters(\n",
    "    command=\"python\",\n",
    "    args=[\"./server/cocktail2.py\"],\n",
    ")"
   ]
  },
  {
   "cell_type": "code",
   "execution_count": 23,
   "metadata": {},
   "outputs": [
    {
     "name": "stdout",
     "output_type": "stream",
     "text": [
      "[user]:  Please get cocktail margarita id and then full detail of cocktail margarita\n"
     ]
    },
    {
     "name": "stderr",
     "output_type": "stream",
     "text": [
      "Warning: there are non-text parts in the response: ['function_call'],returning concatenated text result from text parts,check out the non text parts for full response from model.\n"
     ]
    },
    {
     "name": "stdout",
     "output_type": "stream",
     "text": [
      "[-tool_response-] id='af-0e90b479-a41e-4ab0-9350-0758c3a70afd' name='search_cocktail_by_name' response={'result': CallToolResult(meta=None, content=[TextContent(type='text', text=\"Name: Margarita, ID: 11007\\n  Instructions: Rub the rim of the glass with the lime slice to make the salt stick to it. Take care to moisten only...\\n  Glass: Cocktail glass\\n  Type: Alcoholic\\n---\\nName: Blue Margarita, ID: 11118\\n  Instructions: Rub rim of cocktail glass with lime juice. Dip rim in coarse salt. Shake tequila, blue curacao, and ...\\n  Glass: Cocktail glass\\n  Type: Alcoholic\\n---\\nName: Tommy's Margarita, ID: 17216\\n  Instructions: Shake and strain into a chilled cocktail glass....\\n  Glass: Old-Fashioned glass\\n  Type: Alcoholic\\n---\\nName: Whitecap Margarita, ID: 16158\\n  Instructions: Place all ingredients in a blender and blend until smooth. This makes one drink....\\n  Glass: Margarita/Coupette glass\\n  Type: Alcoholic\\n---\\nName: Strawberry Margarita, ID: 12322\\n  Instructions: Rub rim of cocktail glass with lemon juice and dip rim in salt. Shake schnapps, tequila, triple sec,...\\n  Glass: Cocktail glass\\n  Type: Alcoholic\\n---\\nName: Smashed Watermelon Margarita, ID: 178332\\n  Instructions: In a mason jar muddle the watermelon and 5 mint leaves together into a puree and strain. Next add th...\\n  Glass: Collins glass\\n  Type: Alcoholic\", annotations=None)], isError=False)}\n"
     ]
    },
    {
     "name": "stderr",
     "output_type": "stream",
     "text": [
      "Warning: there are non-text parts in the response: ['function_call'],returning concatenated text result from text parts,check out the non text parts for full response from model.\n"
     ]
    },
    {
     "name": "stdout",
     "output_type": "stream",
     "text": [
      "[-tool_response-] id='af-4d4ebb21-3436-4d2c-adf9-09aa0bf2f9dd' name='lookup_cocktail_by_id' response={'result': CallToolResult(meta=None, content=[TextContent(type='text', text='Name: Margarita, ID: 11007\\n  Instructions: Rub the rim of the glass with the lime slice to make the salt stick to it. Take care to moisten only...\\n  Glass: Cocktail glass\\n  Type: Alcoholic', annotations=None)], isError=False)}\n",
      "[agent]: Okay, I found the ID for the Margarita cocktail is 11007.\n",
      "\n",
      "Here are the full details for the Margarita (ID: 11007):\n",
      "\n",
      "*   **Name**: Margarita\n",
      "*   **ID**: 11007\n",
      "*   **Type**: Alcoholic\n",
      "*   **Glass**: Cocktail glass\n",
      "*   **Instructions**: Rub the rim of the glass with the lime slice to make the salt stick to it. Take care to moisten only the outer rim and sprinkle the salt onto it. The salt should present to the lips of the imbiber and never mix into the cocktail. Shake the other ingredients with ice, then carefully pour into the glass.\n"
     ]
    }
   ],
   "source": [
    "await run_adk_agent(\n",
    "    ct_server_params,\n",
    "    \"Please get cocktail margarita id and then full detail of cocktail margarita\",\n",
    ")"
   ]
  },
  {
   "cell_type": "code",
   "execution_count": null,
   "metadata": {},
   "outputs": [],
   "source": []
  },
  {
   "cell_type": "markdown",
   "metadata": {},
   "source": [
    "### References:\n",
    "\n",
    "https://modelcontextprotocol.io/introduction  \n",
    "\n",
    "https://github.com/philschmid/gemini-samples/blob/main/examples/gemini-mcp-example.ipynb  \n",
    "\n",
    "https://github.com/modelcontextprotocol/python-sdk"
   ]
  }
 ],
 "metadata": {
  "colab": {
   "name": "notebook_template.ipynb",
   "toc_visible": true
  },
  "kernelspec": {
   "display_name": "base",
   "language": "python",
   "name": "python3"
  },
  "language_info": {
   "codemirror_mode": {
    "name": "ipython",
    "version": 3
   },
   "file_extension": ".py",
   "mimetype": "text/x-python",
   "name": "python",
   "nbconvert_exporter": "python",
   "pygments_lexer": "ipython3",
   "version": "3.12.9"
  }
 },
 "nbformat": 4,
 "nbformat_minor": 0
}
